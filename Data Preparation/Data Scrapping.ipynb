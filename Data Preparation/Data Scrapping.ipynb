{
 "cells": [
  {
   "cell_type": "markdown",
   "metadata": {},
   "source": [
    "### Data Scrapping of earnings Call transcripts Q1 2019"
   ]
  },
  {
   "cell_type": "markdown",
   "metadata": {},
   "source": [
    "#### This Notebook deals with scrapping the latest earning call transcipts of Tesla,Amazon,facebook,Goldman,Netflix,Krogger from seeking alpha.com through python library - BeautifulSoup"
   ]
  },
  {
   "cell_type": "code",
   "execution_count": null,
   "metadata": {},
   "outputs": [],
   "source": [
    "import requests  \n",
    "from bs4 import BeautifulSoup as BS\n",
    "import pandas as pd\n",
    "from vaderSentiment.vaderSentiment import SentimentIntensityAnalyzer\n",
    "from pandas import Series, DataFrame"
   ]
  },
  {
   "cell_type": "markdown",
   "metadata": {},
   "source": [
    "##### Function to get the data for each company through URL passed"
   ]
  },
  {
   "cell_type": "code",
   "execution_count": 3,
   "metadata": {},
   "outputs": [],
   "source": [
    "def fetch_urldata(url):\n",
    "    headers = {\n",
    "        'user-agent': 'Mozilla/5.0 (Macintosh; Intel Mac OS X 10_11_6) AppleWebKit/537.36 (KHTML, like Gecko) Chrome/56.0.2924.87 Safari/537.36',\n",
    "        'referrer': 'https://google.com',\n",
    "        'Accept': 'text/html,application/xhtml+xml,application/xml;q=0.9,image/webp,image/apng,*/*;q=0.8',\n",
    "        'Accept-Encoding': 'gzip, deflate, br',\n",
    "        'Accept-Language': 'en-US,en;q=0.9',\n",
    "        'Pragma': 'no-cache',}\n",
    "    r = requests.get(url,headers = headers)  \n",
    "    soup = BS(r.content, 'lxml')\n",
    "    \n",
    "    \n",
    "    arr = []\n",
    "    i = 0\n",
    "    for data in soup.findAll('p'):\n",
    "        i = i + 1\n",
    "        if (data.find('strong') != None):\n",
    "            Object = {\n",
    "            \"text\":  data.find('strong').text[0:]\n",
    "\n",
    "    #         \"Sentiment\": ''        \n",
    "        }\n",
    "        else:\n",
    "            Object = {\n",
    "            \"text\": \n",
    "                 data.contents[0] \n",
    "    #         \"Sentiment\": ''\n",
    "        }\n",
    "\n",
    "        arr.append(Object)\n",
    "    return arr"
   ]
  },
  {
   "cell_type": "markdown",
   "metadata": {},
   "source": [
    "##### Function to determine the sentiment of each document\n",
    "###### Create the datframe of documents along with their sentiments ( + , _ , neutral)"
   ]
  },
  {
   "cell_type": "code",
   "execution_count": 4,
   "metadata": {},
   "outputs": [],
   "source": [
    "def dataframe_jsonfile(arr):\n",
    "    df = pd.DataFrame(arr)\n",
    "    analyzer = SentimentIntensityAnalyzer()\n",
    "    dtext = []\n",
    "    vs_pos = []\n",
    "    vs_neu = []\n",
    "    vs_neg = []\n",
    "    \n",
    "    for i in range(0, len(df)):\n",
    "        dtext.append(df['text'][i])\n",
    "        vs_pos.append(analyzer.polarity_scores(df['text'][i])['pos'])\n",
    "        vs_neu.append(analyzer.polarity_scores(df['text'][i])['neu'])\n",
    "        vs_neg.append(analyzer.polarity_scores(df['text'][i])['neg'])\n",
    "    \n",
    "    \n",
    "    final_df = DataFrame({'text': dtext,\n",
    "                    'Positive': vs_pos,\n",
    "                    'Neutral': vs_neu,\n",
    "                    'Negative': vs_neg})\n",
    "    \n",
    "    final_df = final_df[['text','Positive', 'Neutral', 'Negative']]\n",
    "    \n",
    "    final_df.loc[final_df.Neutral == 1, 'sentiment'] = 'Neutral'\n",
    "    final_df.loc[(final_df['Positive'] > 0.094 ) & (final_df['Positive'] <= 0.9) , 'sentiment'] = 'Positive'\n",
    "    final_df.loc[(final_df['Negative'] <= 0.094 ) & (final_df['Negative'] > 0) , 'sentiment'] = 'Negative'\n",
    "    return final_df"
   ]
  },
  {
   "cell_type": "markdown",
   "metadata": {},
   "source": [
    "##### Following Steps are performed to fetch the call transcript for each company:\n",
    "###### 1)URL of seeking alpha having call transcript link is passed to the function fetch_urldata           \n",
    "###### 2) The data fetched is then passed to funtion dataframe_jsonfile for sentiment analysis and  a dataframe of the documents along with their sentiments is formed                   \n",
    "###### 3)Count of each sentiment is taken                     \n",
    "###### 4) Dataframe is checked for any null values , if any null value is present then the documnet is analyzed manually and a sentiment is applied to it                  \n",
    "###### 5) The dataframe is downloaded in the json format            \n",
    "######                                              This process is repeated for all the companies from 1 - 6  below:"
   ]
  },
  {
   "cell_type": "markdown",
   "metadata": {},
   "source": [
    "###### 1. Tesla"
   ]
  },
  {
   "cell_type": "code",
   "execution_count": 110,
   "metadata": {},
   "outputs": [
    {
     "name": "stdout",
     "output_type": "stream",
     "text": [
      "                                                text  Positive  Neutral  \\\n",
      "0                                Tesla, Inc (NASDAQ:       0.0      1.0   \n",
      "1                               Company Participants       0.0      1.0   \n",
      "2  Martin Viecha - Senior Director, Investor Rela...       0.0      1.0   \n",
      "3                Elon Musk - Chief Executive Officer       0.0      1.0   \n",
      "4           J.B. Straubel - Chief Technology Officer       0.0      1.0   \n",
      "\n",
      "   Negative sentiment  \n",
      "0       0.0   Neutral  \n",
      "1       0.0   Neutral  \n",
      "2       0.0   Neutral  \n",
      "3       0.0   Neutral  \n",
      "4       0.0   Neutral  \n",
      "Neutral     151\n",
      "Positive     66\n",
      "Negative     38\n",
      "Name: sentiment, dtype: int64\n"
     ]
    }
   ],
   "source": [
    "teslaaarr = fetch_urldata('https://seekingalpha.com/article/4256560-tesla-inc-tsla-ceo-elon-musk-q1-2019-results-earnings-call-transcript?page=2')\n",
    "tesla_df = dataframe_jsonfile(teslaaarr)    \n",
    "print(tesla_df.head())\n",
    "print(tesla_df['sentiment'].value_counts())\n"
   ]
  },
  {
   "cell_type": "code",
   "execution_count": 111,
   "metadata": {},
   "outputs": [
    {
     "data": {
      "text/plain": [
       "text         20\n",
       "Positive     20\n",
       "Neutral      20\n",
       "Negative     20\n",
       "sentiment     0\n",
       "dtype: int64"
      ]
     },
     "execution_count": 111,
     "metadata": {},
     "output_type": "execute_result"
    }
   ],
   "source": [
    "tesla_df[tesla_df['sentiment'].isnull()].count()"
   ]
  },
  {
   "cell_type": "code",
   "execution_count": 112,
   "metadata": {},
   "outputs": [],
   "source": [
    "tesla_df.iloc[51].fillna('Positive')\n",
    "tesla_df.iloc[148].fillna('Positive')\n",
    "tesla_df = tesla_df.fillna('Neutral')"
   ]
  },
  {
   "cell_type": "code",
   "execution_count": 113,
   "metadata": {},
   "outputs": [
    {
     "data": {
      "text/plain": [
       "text         0\n",
       "Positive     0\n",
       "Neutral      0\n",
       "Negative     0\n",
       "sentiment    0\n",
       "dtype: int64"
      ]
     },
     "execution_count": 113,
     "metadata": {},
     "output_type": "execute_result"
    }
   ],
   "source": [
    "tesla_df[tesla_df['sentiment'].isnull()].count()"
   ]
  },
  {
   "cell_type": "code",
   "execution_count": 114,
   "metadata": {},
   "outputs": [],
   "source": [
    "tesla_df.to_json(r'D:\\AI Assignments\\Assignment3\\JSON_Files\\tesla_json.json')"
   ]
  },
  {
   "cell_type": "markdown",
   "metadata": {},
   "source": [
    "###### 2 . Amazon "
   ]
  },
  {
   "cell_type": "code",
   "execution_count": 73,
   "metadata": {},
   "outputs": [
    {
     "name": "stdout",
     "output_type": "stream",
     "text": [
      "                                                text  Positive  Neutral  \\\n",
      "0                          Amazon.com, Inc. (NASDAQ:       0.0      1.0   \n",
      "1                               Company Participants       0.0      1.0   \n",
      "2           Shelly Kay Pfeiffer - Investor Relations       0.0      1.0   \n",
      "3  Brian Olsavsky - Senior Vice President and Chi...       0.0      1.0   \n",
      "4       Dave Fildes - Director of Investor Relations       0.0      1.0   \n",
      "\n",
      "   Negative sentiment  \n",
      "0       0.0   Neutral  \n",
      "1       0.0   Neutral  \n",
      "2       0.0   Neutral  \n",
      "3       0.0   Neutral  \n",
      "4       0.0   Neutral  \n",
      "Neutral     70\n",
      "Positive    50\n",
      "Negative    22\n",
      "Name: sentiment, dtype: int64\n"
     ]
    }
   ],
   "source": [
    "amazonaarr = fetch_urldata('https://seekingalpha.com/article/4256968-amazon-com-inc-amzn-q1-2019-results-earnings-call-transcript')\n",
    "amazon_df = dataframe_jsonfile(amazonaarr)\n",
    "amazon_df.drop(columns = ['Positive','Neutral','Negative'])    \n",
    "print(amazon_df.head())\n",
    "print(amazon_df['sentiment'].value_counts())\n"
   ]
  },
  {
   "cell_type": "code",
   "execution_count": 79,
   "metadata": {},
   "outputs": [
    {
     "data": {
      "text/plain": [
       "text         15\n",
       "Positive     15\n",
       "Neutral      15\n",
       "Negative     15\n",
       "sentiment     0\n",
       "dtype: int64"
      ]
     },
     "execution_count": 79,
     "metadata": {},
     "output_type": "execute_result"
    }
   ],
   "source": [
    "amazon_df[amazon_df['sentiment'].isna()].count()"
   ]
  },
  {
   "cell_type": "code",
   "execution_count": 80,
   "metadata": {},
   "outputs": [],
   "source": [
    "amazon_df = amazon_df.fillna('Neutral')"
   ]
  },
  {
   "cell_type": "code",
   "execution_count": 81,
   "metadata": {},
   "outputs": [
    {
     "data": {
      "text/plain": [
       "text         0\n",
       "Positive     0\n",
       "Neutral      0\n",
       "Negative     0\n",
       "sentiment    0\n",
       "dtype: int64"
      ]
     },
     "execution_count": 81,
     "metadata": {},
     "output_type": "execute_result"
    }
   ],
   "source": [
    "amazon_df[amazon_df['sentiment'].isna()].count()"
   ]
  },
  {
   "cell_type": "code",
   "execution_count": 82,
   "metadata": {},
   "outputs": [],
   "source": [
    "amazon_df.to_json(r'D:\\AI Assignments\\Assignment3\\JSON_Files\\amazon_json.json')"
   ]
  },
  {
   "cell_type": "markdown",
   "metadata": {},
   "source": [
    "##### 3. Facebook"
   ]
  },
  {
   "cell_type": "code",
   "execution_count": 62,
   "metadata": {},
   "outputs": [
    {
     "name": "stdout",
     "output_type": "stream",
     "text": [
      "                                                text  Positive  Neutral  \\\n",
      "0                            Facebook, Inc. (NASDAQ:       0.0      1.0   \n",
      "1                               Company Participants       0.0      1.0   \n",
      "2  Deborah Crawford – Vice President-Investor Rel...       0.0      1.0   \n",
      "3          Mark Zuckerberg – Chief Executive Officer       0.0      1.0   \n",
      "4          Sheryl Sandberg – Chief Operating Officer       0.0      1.0   \n",
      "\n",
      "   Negative sentiment  \n",
      "0       0.0   Neutral  \n",
      "1       0.0   Neutral  \n",
      "2       0.0   Neutral  \n",
      "3       0.0   Neutral  \n",
      "4       0.0   Neutral  \n",
      "Neutral     102\n",
      "Positive     67\n",
      "Negative     39\n",
      "Name: sentiment, dtype: int64\n"
     ]
    }
   ],
   "source": [
    "fbaarr = fetch_urldata('https://seekingalpha.com/article/4256521-facebooks-fb-ceo-mark-zuckerberg-q1-2019-results-earnings-call-transcript')\n",
    "fb_df = dataframe_jsonfile(fbaarr)\n",
    "fb_df.drop(columns = ['Positive','Neutral','Negative'])    \n",
    "print(fb_df.head())\n",
    "print(fb_df['sentiment'].value_counts())\n"
   ]
  },
  {
   "cell_type": "code",
   "execution_count": 63,
   "metadata": {},
   "outputs": [
    {
     "data": {
      "text/plain": [
       "text         19\n",
       "Positive     19\n",
       "Neutral      19\n",
       "Negative     19\n",
       "sentiment     0\n",
       "dtype: int64"
      ]
     },
     "execution_count": 63,
     "metadata": {},
     "output_type": "execute_result"
    }
   ],
   "source": [
    "fb_df[fb_df['sentiment'].isna()].count()"
   ]
  },
  {
   "cell_type": "code",
   "execution_count": 64,
   "metadata": {},
   "outputs": [
    {
     "data": {
      "text/html": [
       "<div>\n",
       "<style scoped>\n",
       "    .dataframe tbody tr th:only-of-type {\n",
       "        vertical-align: middle;\n",
       "    }\n",
       "\n",
       "    .dataframe tbody tr th {\n",
       "        vertical-align: top;\n",
       "    }\n",
       "\n",
       "    .dataframe thead th {\n",
       "        text-align: right;\n",
       "    }\n",
       "</style>\n",
       "<table border=\"1\" class=\"dataframe\">\n",
       "  <thead>\n",
       "    <tr style=\"text-align: right;\">\n",
       "      <th></th>\n",
       "      <th>text</th>\n",
       "      <th>Positive</th>\n",
       "      <th>Neutral</th>\n",
       "      <th>Negative</th>\n",
       "      <th>sentiment</th>\n",
       "    </tr>\n",
       "  </thead>\n",
       "  <tbody>\n",
       "    <tr>\n",
       "      <th>30</th>\n",
       "      <td>We’re continuing to see fast adoption of Stori...</td>\n",
       "      <td>0.072</td>\n",
       "      <td>0.928</td>\n",
       "      <td>0.000</td>\n",
       "      <td>NaN</td>\n",
       "    </tr>\n",
       "    <tr>\n",
       "      <th>31</th>\n",
       "      <td>Since our last call, I’ve written about some m...</td>\n",
       "      <td>0.075</td>\n",
       "      <td>0.925</td>\n",
       "      <td>0.000</td>\n",
       "      <td>NaN</td>\n",
       "    </tr>\n",
       "    <tr>\n",
       "      <th>38</th>\n",
       "      <td>So over the next few years, we’re going to reb...</td>\n",
       "      <td>0.085</td>\n",
       "      <td>0.915</td>\n",
       "      <td>0.000</td>\n",
       "      <td>NaN</td>\n",
       "    </tr>\n",
       "    <tr>\n",
       "      <th>40</th>\n",
       "      <td>Similarly, reducing the permanence of data may...</td>\n",
       "      <td>0.088</td>\n",
       "      <td>0.785</td>\n",
       "      <td>0.128</td>\n",
       "      <td>NaN</td>\n",
       "    </tr>\n",
       "    <tr>\n",
       "      <th>57</th>\n",
       "      <td>A key part of earning back trust is increasing...</td>\n",
       "      <td>0.077</td>\n",
       "      <td>0.923</td>\n",
       "      <td>0.000</td>\n",
       "      <td>NaN</td>\n",
       "    </tr>\n",
       "  </tbody>\n",
       "</table>\n",
       "</div>"
      ],
      "text/plain": [
       "                                                 text  Positive  Neutral  \\\n",
       "30  We’re continuing to see fast adoption of Stori...     0.072    0.928   \n",
       "31  Since our last call, I’ve written about some m...     0.075    0.925   \n",
       "38  So over the next few years, we’re going to reb...     0.085    0.915   \n",
       "40  Similarly, reducing the permanence of data may...     0.088    0.785   \n",
       "57  A key part of earning back trust is increasing...     0.077    0.923   \n",
       "\n",
       "    Negative sentiment  \n",
       "30     0.000       NaN  \n",
       "31     0.000       NaN  \n",
       "38     0.000       NaN  \n",
       "40     0.128       NaN  \n",
       "57     0.000       NaN  "
      ]
     },
     "execution_count": 64,
     "metadata": {},
     "output_type": "execute_result"
    }
   ],
   "source": [
    "fb_df[fb_df['sentiment'].isna()].head()"
   ]
  },
  {
   "cell_type": "code",
   "execution_count": 65,
   "metadata": {},
   "outputs": [],
   "source": [
    "fb_df.iloc[96].fillna('Positive')\n",
    "fb_df.iloc[40].fillna('Positive')\n",
    "fb_df.iloc[64].fillna('Positive')\n",
    "fb_df = fb_df.fillna('Neutral')"
   ]
  },
  {
   "cell_type": "code",
   "execution_count": 67,
   "metadata": {},
   "outputs": [],
   "source": [
    "# fb_df"
   ]
  },
  {
   "cell_type": "code",
   "execution_count": 68,
   "metadata": {},
   "outputs": [
    {
     "data": {
      "text/plain": [
       "text         0\n",
       "Positive     0\n",
       "Neutral      0\n",
       "Negative     0\n",
       "sentiment    0\n",
       "dtype: int64"
      ]
     },
     "execution_count": 68,
     "metadata": {},
     "output_type": "execute_result"
    }
   ],
   "source": [
    "fb_df[fb_df['sentiment'].isna()].count()"
   ]
  },
  {
   "cell_type": "code",
   "execution_count": 69,
   "metadata": {},
   "outputs": [],
   "source": [
    "fb_df.to_json(r'D:\\AI Assignments\\Assignment3\\JSON_Files\\facebook_json.json')"
   ]
  },
  {
   "cell_type": "markdown",
   "metadata": {},
   "source": [
    "###### 4.Netflix"
   ]
  },
  {
   "cell_type": "code",
   "execution_count": 70,
   "metadata": {},
   "outputs": [
    {
     "name": "stdout",
     "output_type": "stream",
     "text": [
      "                     text  Positive  Neutral  Negative sentiment\n",
      "0  Netflix, Inc. (NASDAQ:       0.0      1.0       0.0   Neutral\n",
      "1    Company Participants       0.0      1.0       0.0   Neutral\n",
      "2       Spencer Wang - IR       0.0      1.0       0.0   Neutral\n",
      "3     Reed Hastings - CEO       0.0      1.0       0.0   Neutral\n",
      "4   Spencer Neumann - CFO       0.0      1.0       0.0   Neutral\n",
      "Neutral     75\n",
      "Positive    50\n",
      "Negative    19\n",
      "Name: sentiment, dtype: int64\n"
     ]
    }
   ],
   "source": [
    "netflixaarr = fetch_urldata('https://seekingalpha.com/article/4254832-netflix-inc-nflx-ceo-reed-hastings-q1-2019-results-earnings-call-transcript')\n",
    "netflix_df = dataframe_jsonfile(netflixaarr)\n",
    "netflix_df.drop(columns = ['Positive','Neutral','Negative'])    \n",
    "print(netflix_df.head())\n",
    "print(netflix_df['sentiment'].value_counts())\n",
    "# netflix_df.to_json(r'D:\\AI Assignments\\Assignment3\\JSON_Files\\netflix_json.json')"
   ]
  },
  {
   "cell_type": "code",
   "execution_count": 72,
   "metadata": {},
   "outputs": [
    {
     "data": {
      "text/html": [
       "<div>\n",
       "<style scoped>\n",
       "    .dataframe tbody tr th:only-of-type {\n",
       "        vertical-align: middle;\n",
       "    }\n",
       "\n",
       "    .dataframe tbody tr th {\n",
       "        vertical-align: top;\n",
       "    }\n",
       "\n",
       "    .dataframe thead th {\n",
       "        text-align: right;\n",
       "    }\n",
       "</style>\n",
       "<table border=\"1\" class=\"dataframe\">\n",
       "  <thead>\n",
       "    <tr style=\"text-align: right;\">\n",
       "      <th></th>\n",
       "      <th>text</th>\n",
       "      <th>Positive</th>\n",
       "      <th>Neutral</th>\n",
       "      <th>Negative</th>\n",
       "      <th>sentiment</th>\n",
       "    </tr>\n",
       "  </thead>\n",
       "  <tbody>\n",
       "    <tr>\n",
       "      <th>10</th>\n",
       "      <td>Good afternoon and welcome to Netflix Q1 2019 ...</td>\n",
       "      <td>0.090</td>\n",
       "      <td>0.910</td>\n",
       "      <td>0.0</td>\n",
       "      <td>NaN</td>\n",
       "    </tr>\n",
       "    <tr>\n",
       "      <th>28</th>\n",
       "      <td>So, Greg, maybe coming back to you on the subs...</td>\n",
       "      <td>0.041</td>\n",
       "      <td>0.959</td>\n",
       "      <td>0.0</td>\n",
       "      <td>NaN</td>\n",
       "    </tr>\n",
       "    <tr>\n",
       "      <th>38</th>\n",
       "      <td>And just to follow up there, Spence, just to m...</td>\n",
       "      <td>0.051</td>\n",
       "      <td>0.949</td>\n",
       "      <td>0.0</td>\n",
       "      <td>NaN</td>\n",
       "    </tr>\n",
       "    <tr>\n",
       "      <th>42</th>\n",
       "      <td>Maybe one more on the quarter in the letter it...</td>\n",
       "      <td>0.074</td>\n",
       "      <td>0.926</td>\n",
       "      <td>0.0</td>\n",
       "      <td>NaN</td>\n",
       "    </tr>\n",
       "    <tr>\n",
       "      <th>51</th>\n",
       "      <td>So maybe sticking with you, Reed, you had a se...</td>\n",
       "      <td>0.076</td>\n",
       "      <td>0.924</td>\n",
       "      <td>0.0</td>\n",
       "      <td>NaN</td>\n",
       "    </tr>\n",
       "    <tr>\n",
       "      <th>55</th>\n",
       "      <td>Greg, I'd love to take that answer and maybe g...</td>\n",
       "      <td>0.076</td>\n",
       "      <td>0.924</td>\n",
       "      <td>0.0</td>\n",
       "      <td>NaN</td>\n",
       "    </tr>\n",
       "    <tr>\n",
       "      <th>62</th>\n",
       "      <td>Yeah, sure. I can start and then others can ch...</td>\n",
       "      <td>0.091</td>\n",
       "      <td>0.909</td>\n",
       "      <td>0.0</td>\n",
       "      <td>NaN</td>\n",
       "    </tr>\n",
       "    <tr>\n",
       "      <th>63</th>\n",
       "      <td>The specific growth in Q2 is more concentrated...</td>\n",
       "      <td>0.072</td>\n",
       "      <td>0.928</td>\n",
       "      <td>0.0</td>\n",
       "      <td>NaN</td>\n",
       "    </tr>\n",
       "    <tr>\n",
       "      <th>74</th>\n",
       "      <td>I would just add on to Greg too that as you kn...</td>\n",
       "      <td>0.075</td>\n",
       "      <td>0.925</td>\n",
       "      <td>0.0</td>\n",
       "      <td>NaN</td>\n",
       "    </tr>\n",
       "    <tr>\n",
       "      <th>100</th>\n",
       "      <td>Okay. Spence, I wanted to jump off the M&amp;A que...</td>\n",
       "      <td>0.078</td>\n",
       "      <td>0.922</td>\n",
       "      <td>0.0</td>\n",
       "      <td>NaN</td>\n",
       "    </tr>\n",
       "    <tr>\n",
       "      <th>113</th>\n",
       "      <td>Maybe just starting with you Reed, how do you ...</td>\n",
       "      <td>0.074</td>\n",
       "      <td>0.926</td>\n",
       "      <td>0.0</td>\n",
       "      <td>NaN</td>\n",
       "    </tr>\n",
       "    <tr>\n",
       "      <th>136</th>\n",
       "      <td>That's exactly right. And I think, to Ted's po...</td>\n",
       "      <td>0.072</td>\n",
       "      <td>0.928</td>\n",
       "      <td>0.0</td>\n",
       "      <td>NaN</td>\n",
       "    </tr>\n",
       "    <tr>\n",
       "      <th>144</th>\n",
       "      <td>Ted, maybe turning to you on the movies front....</td>\n",
       "      <td>0.046</td>\n",
       "      <td>0.954</td>\n",
       "      <td>0.0</td>\n",
       "      <td>NaN</td>\n",
       "    </tr>\n",
       "  </tbody>\n",
       "</table>\n",
       "</div>"
      ],
      "text/plain": [
       "                                                  text  Positive  Neutral  \\\n",
       "10   Good afternoon and welcome to Netflix Q1 2019 ...     0.090    0.910   \n",
       "28   So, Greg, maybe coming back to you on the subs...     0.041    0.959   \n",
       "38   And just to follow up there, Spence, just to m...     0.051    0.949   \n",
       "42   Maybe one more on the quarter in the letter it...     0.074    0.926   \n",
       "51   So maybe sticking with you, Reed, you had a se...     0.076    0.924   \n",
       "55   Greg, I'd love to take that answer and maybe g...     0.076    0.924   \n",
       "62   Yeah, sure. I can start and then others can ch...     0.091    0.909   \n",
       "63   The specific growth in Q2 is more concentrated...     0.072    0.928   \n",
       "74   I would just add on to Greg too that as you kn...     0.075    0.925   \n",
       "100  Okay. Spence, I wanted to jump off the M&A que...     0.078    0.922   \n",
       "113  Maybe just starting with you Reed, how do you ...     0.074    0.926   \n",
       "136  That's exactly right. And I think, to Ted's po...     0.072    0.928   \n",
       "144  Ted, maybe turning to you on the movies front....     0.046    0.954   \n",
       "\n",
       "     Negative sentiment  \n",
       "10        0.0       NaN  \n",
       "28        0.0       NaN  \n",
       "38        0.0       NaN  \n",
       "42        0.0       NaN  \n",
       "51        0.0       NaN  \n",
       "55        0.0       NaN  \n",
       "62        0.0       NaN  \n",
       "63        0.0       NaN  \n",
       "74        0.0       NaN  \n",
       "100       0.0       NaN  \n",
       "113       0.0       NaN  \n",
       "136       0.0       NaN  \n",
       "144       0.0       NaN  "
      ]
     },
     "execution_count": 72,
     "metadata": {},
     "output_type": "execute_result"
    }
   ],
   "source": [
    "netflix_df[netflix_df['sentiment'].isna()]"
   ]
  },
  {
   "cell_type": "code",
   "execution_count": 74,
   "metadata": {},
   "outputs": [],
   "source": [
    "netflix_df.iloc[10].fillna('Positive')\n",
    "netflix_df.iloc[62].fillna('Positive')\n",
    "netflix_df = netflix_df.fillna('Neutral')"
   ]
  },
  {
   "cell_type": "code",
   "execution_count": 75,
   "metadata": {},
   "outputs": [
    {
     "data": {
      "text/plain": [
       "text         0\n",
       "Positive     0\n",
       "Neutral      0\n",
       "Negative     0\n",
       "sentiment    0\n",
       "dtype: int64"
      ]
     },
     "execution_count": 75,
     "metadata": {},
     "output_type": "execute_result"
    }
   ],
   "source": [
    "netflix_df[netflix_df['sentiment'].isnull()].count()"
   ]
  },
  {
   "cell_type": "code",
   "execution_count": 76,
   "metadata": {},
   "outputs": [],
   "source": [
    "netflix_df.to_json(r'D:\\AI Assignments\\Assignment3\\JSON_Files\\netflix_json.json')"
   ]
  },
  {
   "cell_type": "markdown",
   "metadata": {},
   "source": [
    "###### 5. Krogger "
   ]
  },
  {
   "cell_type": "code",
   "execution_count": 93,
   "metadata": {},
   "outputs": [
    {
     "name": "stdout",
     "output_type": "stream",
     "text": [
      "                                  text  Positive  Neutral  Negative sentiment\n",
      "0                The Kroger Co. (NYSE:       0.0      1.0       0.0   Neutral\n",
      "1                 Company Participants       0.0      1.0       0.0   Neutral\n",
      "2         Rebekah Manis - Director, IR       0.0      1.0       0.0   Neutral\n",
      "3  W. Rodney McMullen - Chairman & CEO       0.0      1.0       0.0   Neutral\n",
      "4                Gary Millerchip - CFO       0.0      1.0       0.0   Neutral\n",
      "Positive    120\n",
      "Neutral      99\n",
      "Negative     42\n",
      "Name: sentiment, dtype: int64\n"
     ]
    }
   ],
   "source": [
    "kroggerarr = fetch_urldata('https://seekingalpha.com/article/4271303-kroger-co-kr-ceo-rodney-mcmullen-q1-2019-results-earnings-call-transcript')\n",
    "krogger_df = dataframe_jsonfile(kroggerarr)\n",
    "krogger_df.drop(columns = ['Positive','Neutral','Negative'])    \n",
    "print(krogger_df.head())\n",
    "print(krogger_df['sentiment'].value_counts())\n"
   ]
  },
  {
   "cell_type": "code",
   "execution_count": 89,
   "metadata": {},
   "outputs": [
    {
     "data": {
      "text/plain": [
       "text         19\n",
       "Positive     19\n",
       "Neutral      19\n",
       "Negative     19\n",
       "sentiment     0\n",
       "dtype: int64"
      ]
     },
     "execution_count": 89,
     "metadata": {},
     "output_type": "execute_result"
    }
   ],
   "source": [
    "krogger_df[krogger_df['sentiment'].isnull()].count()"
   ]
  },
  {
   "cell_type": "code",
   "execution_count": 94,
   "metadata": {},
   "outputs": [],
   "source": [
    "krogger_df.iloc[270].fillna('Positive')\n",
    "krogger_df.iloc[114].fillna('Positive')\n",
    "krogger_df = krogger_df.fillna('Neutral')\n"
   ]
  },
  {
   "cell_type": "code",
   "execution_count": 95,
   "metadata": {},
   "outputs": [
    {
     "data": {
      "text/plain": [
       "text         0\n",
       "Positive     0\n",
       "Neutral      0\n",
       "Negative     0\n",
       "sentiment    0\n",
       "dtype: int64"
      ]
     },
     "execution_count": 95,
     "metadata": {},
     "output_type": "execute_result"
    }
   ],
   "source": [
    "krogger_df[krogger_df['sentiment'].isnull()].count()"
   ]
  },
  {
   "cell_type": "code",
   "execution_count": 96,
   "metadata": {},
   "outputs": [],
   "source": [
    "krogger_df.to_json(r'D:\\AI Assignments\\Assignment3\\JSON_Files\\krogger_json.json')"
   ]
  },
  {
   "cell_type": "markdown",
   "metadata": {},
   "source": [
    "###### 6. GoldMan Sachs"
   ]
  },
  {
   "cell_type": "code",
   "execution_count": 97,
   "metadata": {},
   "outputs": [
    {
     "name": "stdout",
     "output_type": "stream",
     "text": [
      "                                 text  Positive  Neutral  Negative sentiment\n",
      "0      Goldman Sachs BDC, Inc. (NYSE:       0.0      1.0       0.0   Neutral\n",
      "1                Company Participants       0.0      1.0       0.0   Neutral\n",
      "2        Katherine Schneider - VP, IR       0.0      1.0       0.0   Neutral\n",
      "3  Brendan McGovern - President & CEO       0.0      1.0       0.0   Neutral\n",
      "4                     Jon Yoder - COO       0.0      1.0       0.0   Neutral\n",
      "Neutral     69\n",
      "Negative    37\n",
      "Positive    17\n",
      "Name: sentiment, dtype: int64\n"
     ]
    }
   ],
   "source": [
    "goldmanarr = fetch_urldata('https://seekingalpha.com/article/4262707-goldman-sachs-bdc-inc-gsbd-ceo-brendan-mcgovern-q1-2019-results-earnings-call-transcript')\n",
    "goldman_df = dataframe_jsonfile(goldmanarr)\n",
    "goldman_df.drop(columns = ['Positive','Neutral','Negative'])    \n",
    "print(goldman_df.head())\n",
    "print(goldman_df['sentiment'].value_counts())\n"
   ]
  },
  {
   "cell_type": "code",
   "execution_count": 100,
   "metadata": {},
   "outputs": [
    {
     "data": {
      "text/plain": [
       "text         13\n",
       "Positive     13\n",
       "Neutral      13\n",
       "Negative     13\n",
       "sentiment     0\n",
       "dtype: int64"
      ]
     },
     "execution_count": 100,
     "metadata": {},
     "output_type": "execute_result"
    }
   ],
   "source": [
    "goldman_df[goldman_df['sentiment'].isnull()].count()"
   ]
  },
  {
   "cell_type": "code",
   "execution_count": 101,
   "metadata": {},
   "outputs": [],
   "source": [
    "goldman_df = goldman_df.fillna('Neutral')"
   ]
  },
  {
   "cell_type": "code",
   "execution_count": 102,
   "metadata": {},
   "outputs": [
    {
     "data": {
      "text/plain": [
       "text         0\n",
       "Positive     0\n",
       "Neutral      0\n",
       "Negative     0\n",
       "sentiment    0\n",
       "dtype: int64"
      ]
     },
     "execution_count": 102,
     "metadata": {},
     "output_type": "execute_result"
    }
   ],
   "source": [
    "goldman_df[goldman_df['sentiment'].isnull()].count()"
   ]
  },
  {
   "cell_type": "code",
   "execution_count": 103,
   "metadata": {},
   "outputs": [],
   "source": [
    "goldman_df.to_json(r'D:\\AI Assignments\\Assignment3\\JSON_Files\\goldman_json.json')"
   ]
  }
 ],
 "metadata": {
  "kernelspec": {
   "display_name": "Python 3",
   "language": "python",
   "name": "python3"
  },
  "language_info": {
   "codemirror_mode": {
    "name": "ipython",
    "version": 3
   },
   "file_extension": ".py",
   "mimetype": "text/x-python",
   "name": "python",
   "nbconvert_exporter": "python",
   "pygments_lexer": "ipython3",
   "version": "3.7.3"
  }
 },
 "nbformat": 4,
 "nbformat_minor": 2
}
