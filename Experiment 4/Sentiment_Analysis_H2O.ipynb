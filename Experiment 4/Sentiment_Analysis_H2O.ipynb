{
  "nbformat": 4,
  "nbformat_minor": 0,
  "metadata": {
    "kernelspec": {
      "name": "python3",
      "display_name": "Python 3"
    },
    "language_info": {
      "codemirror_mode": {
        "name": "ipython",
        "version": 3
      },
      "file_extension": ".py",
      "mimetype": "text/x-python",
      "name": "python",
      "nbconvert_exporter": "python",
      "pygments_lexer": "ipython3",
      "version": "3.7.3"
    },
    "colab": {
      "name": "Experiment3_P4_H2O.ipynb",
      "version": "0.3.2",
      "provenance": [],
      "collapsed_sections": [],
      "toc_visible": true
    },
    "accelerator": "TPU"
  },
  "cells": [
    {
      "cell_type": "markdown",
      "metadata": {
        "id": "F9iT8NIctvA8",
        "colab_type": "text"
      },
      "source": [
        "## Sentiment Analysis using H2O"
      ]
    },
    {
      "cell_type": "markdown",
      "metadata": {
        "id": "xOKlZqZGHUc7",
        "colab_type": "text"
      },
      "source": [
        "Installing the H2O library"
      ]
    },
    {
      "cell_type": "code",
      "metadata": {
        "id": "27YGZY0gJ68a",
        "colab_type": "code",
        "outputId": "d5acbdac-e5fc-4295-f801-81a66beffde0",
        "colab": {
          "base_uri": "https://localhost:8080/",
          "height": 177
        }
      },
      "source": [
        "! pip install h2o"
      ],
      "execution_count": 0,
      "outputs": [
        {
          "output_type": "stream",
          "text": [
            "Requirement already satisfied: h2o in /usr/local/lib/python3.6/dist-packages (3.26.0.2)\n",
            "Requirement already satisfied: tabulate in /usr/local/lib/python3.6/dist-packages (from h2o) (0.8.3)\n",
            "Requirement already satisfied: colorama>=0.3.8 in /usr/local/lib/python3.6/dist-packages (from h2o) (0.4.1)\n",
            "Requirement already satisfied: future in /usr/local/lib/python3.6/dist-packages (from h2o) (0.16.0)\n",
            "Requirement already satisfied: requests in /usr/local/lib/python3.6/dist-packages (from h2o) (2.21.0)\n",
            "Requirement already satisfied: urllib3<1.25,>=1.21.1 in /usr/local/lib/python3.6/dist-packages (from requests->h2o) (1.24.3)\n",
            "Requirement already satisfied: chardet<3.1.0,>=3.0.2 in /usr/local/lib/python3.6/dist-packages (from requests->h2o) (3.0.4)\n",
            "Requirement already satisfied: idna<2.9,>=2.5 in /usr/local/lib/python3.6/dist-packages (from requests->h2o) (2.8)\n",
            "Requirement already satisfied: certifi>=2017.4.17 in /usr/local/lib/python3.6/dist-packages (from requests->h2o) (2019.6.16)\n"
          ],
          "name": "stdout"
        }
      ]
    },
    {
      "cell_type": "code",
      "metadata": {
        "id": "uxWgXtEPKbWi",
        "colab_type": "code",
        "outputId": "0d4571a4-c9d4-4664-f54d-ea11b2225d6d",
        "colab": {
          "base_uri": "https://localhost:8080/",
          "height": 212
        }
      },
      "source": [
        "! apt-get install default-jre\n",
        "!java -version"
      ],
      "execution_count": 0,
      "outputs": [
        {
          "output_type": "stream",
          "text": [
            "Reading package lists... Done\n",
            "Building dependency tree       \n",
            "Reading state information... Done\n",
            "default-jre is already the newest version (2:1.11-68ubuntu1~18.04.1).\n",
            "The following package was automatically installed and is no longer required:\n",
            "  libnvidia-common-410\n",
            "Use 'apt autoremove' to remove it.\n",
            "0 upgraded, 0 newly installed, 0 to remove and 4 not upgraded.\n",
            "openjdk version \"11.0.3\" 2019-04-16\n",
            "OpenJDK Runtime Environment (build 11.0.3+7-Ubuntu-1ubuntu218.04.1)\n",
            "OpenJDK 64-Bit Server VM (build 11.0.3+7-Ubuntu-1ubuntu218.04.1, mixed mode, sharing)\n"
          ],
          "name": "stdout"
        }
      ]
    },
    {
      "cell_type": "code",
      "metadata": {
        "id": "zRyerGJKE_Rz",
        "colab_type": "code",
        "colab": {}
      },
      "source": [
        "import pandas as pd\n",
        "import json\n",
        "from sklearn.model_selection import train_test_split\n",
        "import h2o\n",
        "from h2o.automl import H2OAutoML as aml"
      ],
      "execution_count": 0,
      "outputs": []
    },
    {
      "cell_type": "markdown",
      "metadata": {
        "id": "5EcElYqkKLP7",
        "colab_type": "text"
      },
      "source": [
        "### H2O"
      ]
    },
    {
      "cell_type": "code",
      "metadata": {
        "id": "f0GJlhq6KMs5",
        "colab_type": "code",
        "outputId": "0f23d28a-5b71-4f01-cc95-8dc9e91e3dc7",
        "colab": {
          "base_uri": "https://localhost:8080/",
          "height": 424
        }
      },
      "source": [
        "h2o.init()"
      ],
      "execution_count": 0,
      "outputs": [
        {
          "output_type": "stream",
          "text": [
            "Checking whether there is an H2O instance running at http://localhost:54321 . connected.\n"
          ],
          "name": "stdout"
        },
        {
          "output_type": "display_data",
          "data": {
            "text/html": [
              "<div style=\"overflow:auto\"><table style=\"width:50%\"><tr><td>H2O cluster uptime:</td>\n",
              "<td>1 hour 12 mins</td></tr>\n",
              "<tr><td>H2O cluster timezone:</td>\n",
              "<td>Etc/UTC</td></tr>\n",
              "<tr><td>H2O data parsing timezone:</td>\n",
              "<td>UTC</td></tr>\n",
              "<tr><td>H2O cluster version:</td>\n",
              "<td>3.26.0.2</td></tr>\n",
              "<tr><td>H2O cluster version age:</td>\n",
              "<td>13 days </td></tr>\n",
              "<tr><td>H2O cluster name:</td>\n",
              "<td>H2O_from_python_unknownUser_sw1bms</td></tr>\n",
              "<tr><td>H2O cluster total nodes:</td>\n",
              "<td>1</td></tr>\n",
              "<tr><td>H2O cluster free memory:</td>\n",
              "<td>2.987 Gb</td></tr>\n",
              "<tr><td>H2O cluster total cores:</td>\n",
              "<td>2</td></tr>\n",
              "<tr><td>H2O cluster allowed cores:</td>\n",
              "<td>2</td></tr>\n",
              "<tr><td>H2O cluster status:</td>\n",
              "<td>locked, healthy</td></tr>\n",
              "<tr><td>H2O connection url:</td>\n",
              "<td>http://localhost:54321</td></tr>\n",
              "<tr><td>H2O connection proxy:</td>\n",
              "<td>None</td></tr>\n",
              "<tr><td>H2O internal security:</td>\n",
              "<td>False</td></tr>\n",
              "<tr><td>H2O API Extensions:</td>\n",
              "<td>Amazon S3, XGBoost, Algos, AutoML, Core V3, Core V4</td></tr>\n",
              "<tr><td>Python version:</td>\n",
              "<td>3.6.8 final</td></tr></table></div>"
            ],
            "text/plain": [
              "--------------------------  ---------------------------------------------------\n",
              "H2O cluster uptime:         1 hour 12 mins\n",
              "H2O cluster timezone:       Etc/UTC\n",
              "H2O data parsing timezone:  UTC\n",
              "H2O cluster version:        3.26.0.2\n",
              "H2O cluster version age:    13 days\n",
              "H2O cluster name:           H2O_from_python_unknownUser_sw1bms\n",
              "H2O cluster total nodes:    1\n",
              "H2O cluster free memory:    2.987 Gb\n",
              "H2O cluster total cores:    2\n",
              "H2O cluster allowed cores:  2\n",
              "H2O cluster status:         locked, healthy\n",
              "H2O connection url:         http://localhost:54321\n",
              "H2O connection proxy:\n",
              "H2O internal security:      False\n",
              "H2O API Extensions:         Amazon S3, XGBoost, Algos, AutoML, Core V3, Core V4\n",
              "Python version:             3.6.8 final\n",
              "--------------------------  ---------------------------------------------------"
            ]
          },
          "metadata": {
            "tags": []
          }
        }
      ]
    },
    {
      "cell_type": "markdown",
      "metadata": {
        "id": "nhNLLbv0sbqp",
        "colab_type": "text"
      },
      "source": [
        "Upload the documents file"
      ]
    },
    {
      "cell_type": "code",
      "metadata": {
        "id": "JywtUKcPjF65",
        "colab_type": "code",
        "colab": {}
      },
      "source": [
        "with open('AllAPI_sentiments_forh2o.json',encoding=\"utf8\") as file:\n",
        "            h2 = pd.DataFrame(json.load(file))"
      ],
      "execution_count": 0,
      "outputs": []
    },
    {
      "cell_type": "code",
      "metadata": {
        "id": "63qxUHJ-jK0w",
        "colab_type": "code",
        "outputId": "c9465387-d360-4aa6-f239-749b44731e29",
        "colab": {
          "base_uri": "https://localhost:8080/",
          "height": 35
        }
      },
      "source": [
        "h2.shape"
      ],
      "execution_count": 0,
      "outputs": [
        {
          "output_type": "execute_result",
          "data": {
            "text/plain": [
              "(811, 5)"
            ]
          },
          "metadata": {
            "tags": []
          },
          "execution_count": 8
        }
      ]
    },
    {
      "cell_type": "markdown",
      "metadata": {
        "id": "o5zNGnVtshnn",
        "colab_type": "text"
      },
      "source": [
        "Split the train and valid data"
      ]
    },
    {
      "cell_type": "code",
      "metadata": {
        "id": "qR7E3zUU5D3K",
        "colab_type": "code",
        "colab": {}
      },
      "source": [
        "train = h2.iloc[0:500]\n",
        "valid = h2.iloc[501:811]"
      ],
      "execution_count": 0,
      "outputs": []
    },
    {
      "cell_type": "code",
      "metadata": {
        "id": "an-wkK0A5IPy",
        "colab_type": "code",
        "outputId": "124b1475-5b45-4444-f39f-d93454b9b39e",
        "colab": {
          "base_uri": "https://localhost:8080/",
          "height": 52
        }
      },
      "source": [
        "print(train.shape)\n",
        "print(valid.shape)"
      ],
      "execution_count": 0,
      "outputs": [
        {
          "output_type": "stream",
          "text": [
            "(500, 5)\n",
            "(310, 5)\n"
          ],
          "name": "stdout"
        }
      ]
    },
    {
      "cell_type": "markdown",
      "metadata": {
        "id": "3rfIyCzWskcq",
        "colab_type": "text"
      },
      "source": [
        "Convert the data in H2O format"
      ]
    },
    {
      "cell_type": "code",
      "metadata": {
        "id": "aOMQpr2W6d1f",
        "colab_type": "code",
        "outputId": "2f46499c-c411-4684-a9ab-ba3c7bd3f520",
        "colab": {
          "base_uri": "https://localhost:8080/",
          "height": 274
        }
      },
      "source": [
        "train_h2o = h2o.H2OFrame(train)\n",
        "train_h2o.head()\n",
        "\n",
        "valid_h2o = h2o.H2OFrame(valid)\n",
        "valid_h2o.head()"
      ],
      "execution_count": 0,
      "outputs": [
        {
          "output_type": "stream",
          "text": [
            "Parse progress: |█████████████████████████████████████████████████████████| 100%\n",
            "Parse progress: |█████████████████████████████████████████████████████████| 100%\n"
          ],
          "name": "stdout"
        },
        {
          "output_type": "display_data",
          "data": {
            "text/html": [
              "<table>\n",
              "<thead>\n",
              "<tr><th style=\"text-align: right;\">  azure_api_score</th><th style=\"text-align: right;\">  google_sentiment_socre</th><th style=\"text-align: right;\">  ibm_score</th><th style=\"text-align: right;\">  amazon_sentiment_score</th><th>sentiment  </th></tr>\n",
              "</thead>\n",
              "<tbody>\n",
              "<tr><td style=\"text-align: right;\">         0.765162</td><td style=\"text-align: right;\">                    -0.1</td><td style=\"text-align: right;\">   0.477986</td><td style=\"text-align: right;\">                0.679894</td><td>negative   </td></tr>\n",
              "<tr><td style=\"text-align: right;\">         0.5     </td><td style=\"text-align: right;\">                     0  </td><td style=\"text-align: right;\">  -0.391976</td><td style=\"text-align: right;\">                0.941681</td><td>negative   </td></tr>\n",
              "<tr><td style=\"text-align: right;\">         0.5     </td><td style=\"text-align: right;\">                     0.3</td><td style=\"text-align: right;\">   0.792806</td><td style=\"text-align: right;\">                0.699461</td><td>positive   </td></tr>\n",
              "<tr><td style=\"text-align: right;\">         0.904133</td><td style=\"text-align: right;\">                     0  </td><td style=\"text-align: right;\">   0.988573</td><td style=\"text-align: right;\">                0.674756</td><td>positive   </td></tr>\n",
              "<tr><td style=\"text-align: right;\">         0.5     </td><td style=\"text-align: right;\">                     0  </td><td style=\"text-align: right;\">   0.340174</td><td style=\"text-align: right;\">                0.740363</td><td>positive   </td></tr>\n",
              "<tr><td style=\"text-align: right;\">         0.958334</td><td style=\"text-align: right;\">                     0.4</td><td style=\"text-align: right;\">   0.75921 </td><td style=\"text-align: right;\">                0.825042</td><td>positive   </td></tr>\n",
              "<tr><td style=\"text-align: right;\">         0.5     </td><td style=\"text-align: right;\">                     0  </td><td style=\"text-align: right;\">   0.654095</td><td style=\"text-align: right;\">                0.670927</td><td>negative   </td></tr>\n",
              "<tr><td style=\"text-align: right;\">         0.5     </td><td style=\"text-align: right;\">                     0.3</td><td style=\"text-align: right;\">   0.882205</td><td style=\"text-align: right;\">                0.989447</td><td>positive   </td></tr>\n",
              "<tr><td style=\"text-align: right;\">         0.969348</td><td style=\"text-align: right;\">                     0.2</td><td style=\"text-align: right;\">   0.872548</td><td style=\"text-align: right;\">                0.690706</td><td>positive   </td></tr>\n",
              "<tr><td style=\"text-align: right;\">         0.5     </td><td style=\"text-align: right;\">                     0.3</td><td style=\"text-align: right;\">   0.615808</td><td style=\"text-align: right;\">                0.747006</td><td>negative   </td></tr>\n",
              "</tbody>\n",
              "</table>"
            ]
          },
          "metadata": {
            "tags": []
          }
        },
        {
          "output_type": "execute_result",
          "data": {
            "text/plain": [
              ""
            ]
          },
          "metadata": {
            "tags": []
          },
          "execution_count": 11
        }
      ]
    },
    {
      "cell_type": "markdown",
      "metadata": {
        "id": "mHA5K66RsnY9",
        "colab_type": "text"
      },
      "source": [
        "for classification problem it is essential to do asfactor for taget variable"
      ]
    },
    {
      "cell_type": "code",
      "metadata": {
        "id": "owT4qS9Z5X8-",
        "colab_type": "code",
        "colab": {}
      },
      "source": [
        "train_h2o['sentiment'] = train_h2o['sentiment'].asfactor()\n",
        "valid_h2o['sentiment'] = valid_h2o['sentiment'].asfactor()"
      ],
      "execution_count": 0,
      "outputs": []
    },
    {
      "cell_type": "code",
      "metadata": {
        "id": "695LZfqn5dTF",
        "colab_type": "code",
        "colab": {}
      },
      "source": [
        "X_test_h2o = valid_h2o[:,:-1]\n",
        "y_test_h2o = valid_h2o[:,-1]"
      ],
      "execution_count": 0,
      "outputs": []
    },
    {
      "cell_type": "code",
      "metadata": {
        "id": "4HXad_KUH79B",
        "colab_type": "code",
        "outputId": "cac2e34e-68f5-4dbf-d43b-24cbfd405d20",
        "colab": {
          "base_uri": "https://localhost:8080/",
          "height": 88
        }
      },
      "source": [
        "f = X_test_h2o.columns\n",
        "f"
      ],
      "execution_count": 0,
      "outputs": [
        {
          "output_type": "execute_result",
          "data": {
            "text/plain": [
              "['azure_api_score',\n",
              " 'google_sentiment_socre',\n",
              " 'ibm_score',\n",
              " 'amazon_sentiment_score']"
            ]
          },
          "metadata": {
            "tags": []
          },
          "execution_count": 21
        }
      ]
    },
    {
      "cell_type": "code",
      "metadata": {
        "id": "pupZrkLJQ4zC",
        "colab_type": "code",
        "colab": {}
      },
      "source": [
        "target = \"sentiment\""
      ],
      "execution_count": 0,
      "outputs": []
    },
    {
      "cell_type": "markdown",
      "metadata": {
        "id": "FUi_GKyGstMm",
        "colab_type": "text"
      },
      "source": [
        "Train the model"
      ]
    },
    {
      "cell_type": "code",
      "metadata": {
        "id": "Zcb8Z1AlPr1Y",
        "colab_type": "code",
        "outputId": "994c1c04-1868-48b6-c078-8b0fb7ff5218",
        "colab": {
          "base_uri": "https://localhost:8080/",
          "height": 256
        }
      },
      "source": [
        "aml = H2OAutoML(max_runtime_secs = 30)\n",
        "aml.train(x = f, y = target,training_frame=train_h2o,validation_frame=valid_h2o)\n",
        "aml.leaderboard"
      ],
      "execution_count": 0,
      "outputs": [
        {
          "output_type": "stream",
          "text": [
            "AutoML progress: |████████████████████████████████████████████████████████| 100%\n"
          ],
          "name": "stdout"
        },
        {
          "output_type": "display_data",
          "data": {
            "text/html": [
              "<table>\n",
              "<thead>\n",
              "<tr><th>model_id                                     </th><th style=\"text-align: right;\">     auc</th><th style=\"text-align: right;\">  logloss</th><th style=\"text-align: right;\">  mean_per_class_error</th><th style=\"text-align: right;\">    rmse</th><th style=\"text-align: right;\">     mse</th></tr>\n",
              "</thead>\n",
              "<tbody>\n",
              "<tr><td>XGBoost_3_AutoML_20190809_160510             </td><td style=\"text-align: right;\">0.705489</td><td style=\"text-align: right;\"> 0.476937</td><td style=\"text-align: right;\">              0.5     </td><td style=\"text-align: right;\">0.392509</td><td style=\"text-align: right;\">0.154063</td></tr>\n",
              "<tr><td>XGBoost_2_AutoML_20190809_160510             </td><td style=\"text-align: right;\">0.699436</td><td style=\"text-align: right;\"> 0.465607</td><td style=\"text-align: right;\">              0.5     </td><td style=\"text-align: right;\">0.386332</td><td style=\"text-align: right;\">0.149252</td></tr>\n",
              "<tr><td>GLM_grid_1_AutoML_20190809_160510_model_1    </td><td style=\"text-align: right;\">0.697629</td><td style=\"text-align: right;\"> 0.478484</td><td style=\"text-align: right;\">              0.495327</td><td style=\"text-align: right;\">0.392812</td><td style=\"text-align: right;\">0.154301</td></tr>\n",
              "<tr><td>GBM_grid_1_AutoML_20190809_160510_model_1    </td><td style=\"text-align: right;\">0.694264</td><td style=\"text-align: right;\"> 0.496333</td><td style=\"text-align: right;\">              0.5     </td><td style=\"text-align: right;\">0.400324</td><td style=\"text-align: right;\">0.160259</td></tr>\n",
              "<tr><td>DeepLearning_1_AutoML_20190809_160510        </td><td style=\"text-align: right;\">0.691482</td><td style=\"text-align: right;\"> 0.516468</td><td style=\"text-align: right;\">              0.488526</td><td style=\"text-align: right;\">0.405548</td><td style=\"text-align: right;\">0.164469</td></tr>\n",
              "<tr><td>GBM_2_AutoML_20190809_160510                 </td><td style=\"text-align: right;\">0.689009</td><td style=\"text-align: right;\"> 0.510342</td><td style=\"text-align: right;\">              0.5     </td><td style=\"text-align: right;\">0.40737 </td><td style=\"text-align: right;\">0.16595 </td></tr>\n",
              "<tr><td>XGBoost_grid_1_AutoML_20190809_160510_model_2</td><td style=\"text-align: right;\">0.688985</td><td style=\"text-align: right;\"> 0.48278 </td><td style=\"text-align: right;\">              0.5     </td><td style=\"text-align: right;\">0.392985</td><td style=\"text-align: right;\">0.154437</td></tr>\n",
              "<tr><td>GBM_5_AutoML_20190809_160510                 </td><td style=\"text-align: right;\">0.688438</td><td style=\"text-align: right;\"> 0.471274</td><td style=\"text-align: right;\">              0.5     </td><td style=\"text-align: right;\">0.387042</td><td style=\"text-align: right;\">0.149802</td></tr>\n",
              "<tr><td>GBM_grid_1_AutoML_20190809_160510_model_2    </td><td style=\"text-align: right;\">0.687403</td><td style=\"text-align: right;\"> 0.499212</td><td style=\"text-align: right;\">              0.495327</td><td style=\"text-align: right;\">0.401748</td><td style=\"text-align: right;\">0.161402</td></tr>\n",
              "<tr><td>GBM_3_AutoML_20190809_160510                 </td><td style=\"text-align: right;\">0.685132</td><td style=\"text-align: right;\"> 0.50995 </td><td style=\"text-align: right;\">              0.5     </td><td style=\"text-align: right;\">0.40463 </td><td style=\"text-align: right;\">0.163725</td></tr>\n",
              "</tbody>\n",
              "</table>"
            ]
          },
          "metadata": {
            "tags": []
          }
        },
        {
          "output_type": "execute_result",
          "data": {
            "text/plain": [
              ""
            ]
          },
          "metadata": {
            "tags": []
          },
          "execution_count": 22
        }
      ]
    },
    {
      "cell_type": "markdown",
      "metadata": {
        "id": "rueB_3kvsvH_",
        "colab_type": "text"
      },
      "source": [
        "The Leaderboard gives XGBoost as the best model with 70% accuracy "
      ]
    },
    {
      "cell_type": "code",
      "metadata": {
        "id": "0j8HnDiar1ba",
        "colab_type": "code",
        "colab": {}
      },
      "source": [
        "best_model = h2o.get_model(aml.leaderboard[1,'model_id'])"
      ],
      "execution_count": 0,
      "outputs": []
    },
    {
      "cell_type": "code",
      "metadata": {
        "id": "TRi8z6wZsUOB",
        "colab_type": "code",
        "outputId": "7f94a7e4-baa1-47e6-e460-96bd19d58a7a",
        "colab": {
          "base_uri": "https://localhost:8080/",
          "height": 35
        }
      },
      "source": [
        "best_model.algo"
      ],
      "execution_count": 0,
      "outputs": [
        {
          "output_type": "execute_result",
          "data": {
            "text/plain": [
              "'xgboost'"
            ]
          },
          "metadata": {
            "tags": []
          },
          "execution_count": 24
        }
      ]
    },
    {
      "cell_type": "code",
      "metadata": {
        "id": "Kz5K696KAkum",
        "colab_type": "code",
        "outputId": "e607c3ce-78f5-4ca4-ae18-d41a182f5dda",
        "colab": {
          "base_uri": "https://localhost:8080/",
          "height": 116
        }
      },
      "source": [
        "cm = best_model.confusion_matrix(valid = True)\n",
        "cm"
      ],
      "execution_count": 0,
      "outputs": [
        {
          "output_type": "stream",
          "text": [
            "Confusion Matrix (Act/Pred) for max f1 @ threshold = 0.4882395565509796: \n"
          ],
          "name": "stdout"
        },
        {
          "output_type": "display_data",
          "data": {
            "text/html": [
              "<div style=\"overflow:auto\"><table style=\"width:50%\"><tr><td><b></b></td>\n",
              "<td><b>negative</b></td>\n",
              "<td><b>positive</b></td>\n",
              "<td><b>Error</b></td>\n",
              "<td><b>Rate</b></td></tr>\n",
              "<tr><td>negative</td>\n",
              "<td>7.0</td>\n",
              "<td>43.0</td>\n",
              "<td>0.86</td>\n",
              "<td> (43.0/50.0)</td></tr>\n",
              "<tr><td>positive</td>\n",
              "<td>5.0</td>\n",
              "<td>255.0</td>\n",
              "<td>0.0192</td>\n",
              "<td> (5.0/260.0)</td></tr>\n",
              "<tr><td>Total</td>\n",
              "<td>12.0</td>\n",
              "<td>298.0</td>\n",
              "<td>0.1548</td>\n",
              "<td> (48.0/310.0)</td></tr></table></div>"
            ],
            "text/plain": [
              "          negative    positive    Error    Rate\n",
              "--------  ----------  ----------  -------  ------------\n",
              "negative  7           43          0.86     (43.0/50.0)\n",
              "positive  5           255         0.0192   (5.0/260.0)\n",
              "Total     12          298         0.1548   (48.0/310.0)"
            ]
          },
          "metadata": {
            "tags": []
          }
        },
        {
          "output_type": "execute_result",
          "data": {
            "text/plain": [
              ""
            ]
          },
          "metadata": {
            "tags": []
          },
          "execution_count": 26
        }
      ]
    }
  ]
}