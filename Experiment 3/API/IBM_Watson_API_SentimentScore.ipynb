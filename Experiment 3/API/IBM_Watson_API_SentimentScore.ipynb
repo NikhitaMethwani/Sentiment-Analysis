{
 "cells": [
  {
   "cell_type": "markdown",
   "metadata": {},
   "source": [
    "### Sentiment Score using IBM Watson API"
   ]
  },
  {
   "cell_type": "code",
   "execution_count": null,
   "metadata": {},
   "outputs": [],
   "source": [
    "import pandas as pd\n",
    "import json\n",
    "from pandas import DataFrame\n",
    "import json\n",
    "from ibm_watson import NaturalLanguageUnderstandingV1\n",
    "from ibm_watson.natural_language_understanding_v1 import Features, SentimentOptions"
   ]
  },
  {
   "cell_type": "markdown",
   "metadata": {},
   "source": [
    "#### Upload the web scrapped data json file from your directory to test the sentiment of each sentence with IBM  API"
   ]
  },
  {
   "cell_type": "code",
   "execution_count": 9,
   "metadata": {},
   "outputs": [],
   "source": [
    "with open('D:\\\\AI Assignments\\\\Assignment3\\\\JSON_Files\\\\noscore_json.json', 'r') as file:\n",
    "    df = pd.DataFrame(json.load(file))"
   ]
  },
  {
   "cell_type": "code",
   "execution_count": 10,
   "metadata": {},
   "outputs": [
    {
     "data": {
      "text/html": [
       "<div>\n",
       "<style scoped>\n",
       "    .dataframe tbody tr th:only-of-type {\n",
       "        vertical-align: middle;\n",
       "    }\n",
       "\n",
       "    .dataframe tbody tr th {\n",
       "        vertical-align: top;\n",
       "    }\n",
       "\n",
       "    .dataframe thead th {\n",
       "        text-align: right;\n",
       "    }\n",
       "</style>\n",
       "<table border=\"1\" class=\"dataframe\">\n",
       "  <thead>\n",
       "    <tr style=\"text-align: right;\">\n",
       "      <th></th>\n",
       "      <th>text</th>\n",
       "    </tr>\n",
       "  </thead>\n",
       "  <tbody>\n",
       "    <tr>\n",
       "      <th>0</th>\n",
       "      <td>Tesla, Inc (NASDAQ:</td>\n",
       "    </tr>\n",
       "    <tr>\n",
       "      <th>1</th>\n",
       "      <td>Company Participants</td>\n",
       "    </tr>\n",
       "    <tr>\n",
       "      <th>10</th>\n",
       "      <td>Pierre Ferragu - New Street Research</td>\n",
       "    </tr>\n",
       "    <tr>\n",
       "      <th>100</th>\n",
       "      <td>Well, first of all, obviously on account of te...</td>\n",
       "    </tr>\n",
       "    <tr>\n",
       "      <th>1000</th>\n",
       "      <td>Our digital sales grew 42% in the first quarte...</td>\n",
       "    </tr>\n",
       "  </tbody>\n",
       "</table>\n",
       "</div>"
      ],
      "text/plain": [
       "                                                   text\n",
       "0                                   Tesla, Inc (NASDAQ:\n",
       "1                                  Company Participants\n",
       "10                 Pierre Ferragu - New Street Research\n",
       "100   Well, first of all, obviously on account of te...\n",
       "1000  Our digital sales grew 42% in the first quarte..."
      ]
     },
     "execution_count": 10,
     "metadata": {},
     "output_type": "execute_result"
    }
   ],
   "source": [
    "df.head()"
   ]
  },
  {
   "cell_type": "markdown",
   "metadata": {},
   "source": [
    "#### The Access Keys are entered to get the access to IBM Watson Sentiment Detector API"
   ]
  },
  {
   "cell_type": "code",
   "execution_count": 67,
   "metadata": {},
   "outputs": [],
   "source": [
    "service = NaturalLanguageUnderstandingV1(\n",
    "    version='2019-07-12',\n",
    "    iam_apikey='GF9jvUznqLEK8HdPrI9KGBwOjEcGHBDFEmnB7_OVPjnA',\n",
    "    url='https://gateway.watsonplatform.net/natural-language-understanding/api')"
   ]
  },
  {
   "cell_type": "code",
   "execution_count": 70,
   "metadata": {},
   "outputs": [
    {
     "data": {
      "text/plain": [
       "'Kroger is creating a virtuous cycle built upon the rich collection of proprietary data generated from our customer traffic to improve the customer experience which then supports new margin-rich asset-light businesses. We expect Alternative profit streams to continue to grow and contribute an estimated incremental $100 million in net operating profit in 2019 and continue to accelerate into 2020. This will be generated primarily from the more mature Alternative profit streams such as Kroger Personal Finance, our media businesses, and customer data insights.'"
      ]
     },
     "execution_count": 70,
     "metadata": {},
     "output_type": "execute_result"
    }
   ],
   "source": [
    "a = df['text'][10]\n",
    "a"
   ]
  },
  {
   "cell_type": "markdown",
   "metadata": {},
   "source": [
    "#### Call the analyze  API of IBM and pass the sentences to check the score and Sentiment .\n",
    "#### Score determines the amount of sentiment of a sentince"
   ]
  },
  {
   "cell_type": "code",
   "execution_count": 89,
   "metadata": {},
   "outputs": [],
   "source": [
    "dtext = []\n",
    "Sentiment = []\n",
    "Positive_score = [] \n",
    "Negative_score = [] \n",
    "Neutral_score = [] \n",
    "IBM_score = []\n",
    "\n",
    "for i in range(0, len(df)):\n",
    "    dtext.append(df['text'][i])\n",
    "    response = service.analyze(text=df['text'][i],\n",
    "                               features=Features(sentiment=SentimentOptions()),\n",
    "                                language='en')\n",
    "    Sentiment.append(response.result['sentiment']['document']['label'])\n",
    "    \n",
    "    score = response.result['sentiment']['document']['score']\n",
    "    IBM_score.append(score)\n",
    "    \n",
    "\n",
    "    sentimentscore_df = DataFrame({'text': dtext,\n",
    "                                   'IBM_score' :  IBM_score,\n",
    "                                    'IBM_Sentiment' : Sentiment})\n"
   ]
  },
  {
   "cell_type": "code",
   "execution_count": 90,
   "metadata": {},
   "outputs": [
    {
     "data": {
      "text/html": [
       "<div>\n",
       "<style scoped>\n",
       "    .dataframe tbody tr th:only-of-type {\n",
       "        vertical-align: middle;\n",
       "    }\n",
       "\n",
       "    .dataframe tbody tr th {\n",
       "        vertical-align: top;\n",
       "    }\n",
       "\n",
       "    .dataframe thead th {\n",
       "        text-align: right;\n",
       "    }\n",
       "</style>\n",
       "<table border=\"1\" class=\"dataframe\">\n",
       "  <thead>\n",
       "    <tr style=\"text-align: right;\">\n",
       "      <th></th>\n",
       "      <th>text</th>\n",
       "      <th>IBM_score</th>\n",
       "      <th>IBM_Sentiment</th>\n",
       "    </tr>\n",
       "  </thead>\n",
       "  <tbody>\n",
       "    <tr>\n",
       "      <th>0</th>\n",
       "      <td>Tesla, Inc (NASDAQ:</td>\n",
       "      <td>0.000000</td>\n",
       "      <td>neutral</td>\n",
       "    </tr>\n",
       "    <tr>\n",
       "      <th>1</th>\n",
       "      <td>Company Participants</td>\n",
       "      <td>0.000000</td>\n",
       "      <td>neutral</td>\n",
       "    </tr>\n",
       "    <tr>\n",
       "      <th>2</th>\n",
       "      <td>Pierre Ferragu - New Street Research</td>\n",
       "      <td>0.000000</td>\n",
       "      <td>neutral</td>\n",
       "    </tr>\n",
       "    <tr>\n",
       "      <th>3</th>\n",
       "      <td>Well, first of all, obviously on account of te...</td>\n",
       "      <td>0.700764</td>\n",
       "      <td>positive</td>\n",
       "    </tr>\n",
       "    <tr>\n",
       "      <th>4</th>\n",
       "      <td>Our digital sales grew 42% in the first quarte...</td>\n",
       "      <td>0.287108</td>\n",
       "      <td>positive</td>\n",
       "    </tr>\n",
       "  </tbody>\n",
       "</table>\n",
       "</div>"
      ],
      "text/plain": [
       "                                                text  IBM_score IBM_Sentiment\n",
       "0                                Tesla, Inc (NASDAQ:   0.000000       neutral\n",
       "1                               Company Participants   0.000000       neutral\n",
       "2               Pierre Ferragu - New Street Research   0.000000       neutral\n",
       "3  Well, first of all, obviously on account of te...   0.700764      positive\n",
       "4  Our digital sales grew 42% in the first quarte...   0.287108      positive"
      ]
     },
     "execution_count": 90,
     "metadata": {},
     "output_type": "execute_result"
    }
   ],
   "source": [
    "sentimentscore_df.head()"
   ]
  },
  {
   "cell_type": "code",
   "execution_count": null,
   "metadata": {},
   "outputs": [],
   "source": []
  },
  {
   "cell_type": "markdown",
   "metadata": {},
   "source": [
    "#### Download the json file in the directory"
   ]
  },
  {
   "cell_type": "code",
   "execution_count": 91,
   "metadata": {},
   "outputs": [],
   "source": [
    "sentimentscore_df.to_csv('D:\\\\AI Assignments\\\\Assignment3\\\\Part3\\\\IBMWatsonAPI.csv')"
   ]
  }
 ],
 "metadata": {
  "kernelspec": {
   "display_name": "Python 3",
   "language": "python",
   "name": "python3"
  },
  "language_info": {
   "codemirror_mode": {
    "name": "ipython",
    "version": 3
   },
   "file_extension": ".py",
   "mimetype": "text/x-python",
   "name": "python",
   "nbconvert_exporter": "python",
   "pygments_lexer": "ipython3",
   "version": "3.7.3"
  }
 },
 "nbformat": 4,
 "nbformat_minor": 2
}
