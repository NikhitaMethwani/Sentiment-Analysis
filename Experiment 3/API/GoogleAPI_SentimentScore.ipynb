{
 "cells": [
  {
   "cell_type": "markdown",
   "metadata": {},
   "source": [
    "### Sentiment Score using Google API"
   ]
  },
  {
   "cell_type": "code",
   "execution_count": 1,
   "metadata": {},
   "outputs": [],
   "source": [
    "import argparse\n",
    "from google.cloud import language\n",
    "from google.cloud.language import enums\n",
    "from google.cloud.language import types\n",
    "import json\n",
    "import pandas as pd\n",
    "from pandas import DataFrame"
   ]
  },
  {
   "cell_type": "markdown",
   "metadata": {},
   "source": [
    "#### The Access Keys file is uploaded to get the access to Google Sentiment Detector API"
   ]
  },
  {
   "cell_type": "code",
   "execution_count": 2,
   "metadata": {},
   "outputs": [],
   "source": [
    "import os\n",
    "os.environ[\"GOOGLE_APPLICATION_CREDENTIALS\"]=\"D:\\AI Assignments\\Assignment3\\project-sentiment1-6d450e3691bf.json\""
   ]
  },
  {
   "cell_type": "markdown",
   "metadata": {},
   "source": [
    "#### Upload the web scrapped data json file from your directory to test the sentiment of each sentence with Google API"
   ]
  },
  {
   "cell_type": "code",
   "execution_count": 2,
   "metadata": {},
   "outputs": [],
   "source": [
    "with open('D:\\\\AI Assignments\\\\Assignment3\\\\JSON_Files\\\\noscore_json.json', 'r') as file:\n",
    "    df = pd.DataFrame(json.load(file))"
   ]
  },
  {
   "cell_type": "code",
   "execution_count": 4,
   "metadata": {},
   "outputs": [
    {
     "data": {
      "text/html": [
       "<div>\n",
       "<style scoped>\n",
       "    .dataframe tbody tr th:only-of-type {\n",
       "        vertical-align: middle;\n",
       "    }\n",
       "\n",
       "    .dataframe tbody tr th {\n",
       "        vertical-align: top;\n",
       "    }\n",
       "\n",
       "    .dataframe thead th {\n",
       "        text-align: right;\n",
       "    }\n",
       "</style>\n",
       "<table border=\"1\" class=\"dataframe\">\n",
       "  <thead>\n",
       "    <tr style=\"text-align: right;\">\n",
       "      <th></th>\n",
       "      <th>sentiment</th>\n",
       "      <th>text</th>\n",
       "    </tr>\n",
       "  </thead>\n",
       "  <tbody>\n",
       "    <tr>\n",
       "      <th>0</th>\n",
       "      <td>Neutral</td>\n",
       "      <td>Tesla, Inc (NASDAQ:</td>\n",
       "    </tr>\n",
       "    <tr>\n",
       "      <th>1</th>\n",
       "      <td>Neutral</td>\n",
       "      <td>Company Participants</td>\n",
       "    </tr>\n",
       "    <tr>\n",
       "      <th>10</th>\n",
       "      <td>Neutral</td>\n",
       "      <td>Pierre Ferragu - New Street Research</td>\n",
       "    </tr>\n",
       "    <tr>\n",
       "      <th>100</th>\n",
       "      <td>Negative</td>\n",
       "      <td>Well, first of all, obviously on account of te...</td>\n",
       "    </tr>\n",
       "    <tr>\n",
       "      <th>1000</th>\n",
       "      <td>Neutral</td>\n",
       "      <td>Our digital sales grew 42% in the first quarte...</td>\n",
       "    </tr>\n",
       "  </tbody>\n",
       "</table>\n",
       "</div>"
      ],
      "text/plain": [
       "     sentiment                                               text\n",
       "0      Neutral                                Tesla, Inc (NASDAQ:\n",
       "1      Neutral                               Company Participants\n",
       "10     Neutral               Pierre Ferragu - New Street Research\n",
       "100   Negative  Well, first of all, obviously on account of te...\n",
       "1000   Neutral  Our digital sales grew 42% in the first quarte..."
      ]
     },
     "execution_count": 4,
     "metadata": {},
     "output_type": "execute_result"
    }
   ],
   "source": [
    "df.head()"
   ]
  },
  {
   "cell_type": "markdown",
   "metadata": {},
   "source": [
    "#### Call the analyze_sentiment API of Google and pass the sentences to check the score and magnitude .\n",
    "#### Magnitude determines the amount of sentiment present in a sentence\n",
    "#### Score determines the amount of sentiment of a sentince"
   ]
  },
  {
   "cell_type": "code",
   "execution_count": 23,
   "metadata": {},
   "outputs": [],
   "source": [
    "dtext = []\n",
    "Sentiment = []\n",
    "score = []\n",
    "\n",
    "client = language.LanguageServiceClient()\n",
    "\n",
    "for i in range(0, len(df)):\n",
    "    dtext.append(df['text'][i])\n",
    "    \n",
    "    document = types.Document(content=df['text'][i],\n",
    "    type=enums.Document.Type.PLAIN_TEXT)\n",
    "    \n",
    "    senti_score = client.analyze_sentiment(document=document)\n",
    "    \n",
    "    sentiment = senti_score.document_sentiment\n",
    "    score.append(sentiment.score)\n",
    "    \n",
    "    if sentiment.score >= 0.5 and sentiment.magnitude > 1.5:\n",
    "        Sentiment.append('Positive')\n",
    "        \n",
    "    elif sentiment.score < -0.5 and sentiment.magnitude > 1.5:\n",
    "        Sentiment.append('Negative')\n",
    "        \n",
    "    else:\n",
    "        Sentiment.append('Negative')\n",
    "    \n",
    "    sentimentscore_df = DataFrame({'text': dtext,\n",
    "                                    'Google_Score' : score,\n",
    "                                  'Google_Sentiment' : Sentiment})"
   ]
  },
  {
   "cell_type": "code",
   "execution_count": 21,
   "metadata": {},
   "outputs": [
    {
     "data": {
      "text/html": [
       "<div>\n",
       "<style scoped>\n",
       "    .dataframe tbody tr th:only-of-type {\n",
       "        vertical-align: middle;\n",
       "    }\n",
       "\n",
       "    .dataframe tbody tr th {\n",
       "        vertical-align: top;\n",
       "    }\n",
       "\n",
       "    .dataframe thead th {\n",
       "        text-align: right;\n",
       "    }\n",
       "</style>\n",
       "<table border=\"1\" class=\"dataframe\">\n",
       "  <thead>\n",
       "    <tr style=\"text-align: right;\">\n",
       "      <th></th>\n",
       "      <th>text</th>\n",
       "      <th>Google_Score</th>\n",
       "    </tr>\n",
       "  </thead>\n",
       "  <tbody>\n",
       "    <tr>\n",
       "      <th>0</th>\n",
       "      <td>Tesla, Inc (NASDAQ:</td>\n",
       "      <td>0.0</td>\n",
       "    </tr>\n",
       "    <tr>\n",
       "      <th>1</th>\n",
       "      <td>Company Participants</td>\n",
       "      <td>0.0</td>\n",
       "    </tr>\n",
       "    <tr>\n",
       "      <th>2</th>\n",
       "      <td>Pierre Ferragu - New Street Research</td>\n",
       "      <td>0.2</td>\n",
       "    </tr>\n",
       "    <tr>\n",
       "      <th>3</th>\n",
       "      <td>Well, first of all, obviously on account of te...</td>\n",
       "      <td>0.1</td>\n",
       "    </tr>\n",
       "    <tr>\n",
       "      <th>4</th>\n",
       "      <td>Our digital sales grew 42% in the first quarte...</td>\n",
       "      <td>0.0</td>\n",
       "    </tr>\n",
       "  </tbody>\n",
       "</table>\n",
       "</div>"
      ],
      "text/plain": [
       "                                                text  Google_Score\n",
       "0                                Tesla, Inc (NASDAQ:           0.0\n",
       "1                               Company Participants           0.0\n",
       "2               Pierre Ferragu - New Street Research           0.2\n",
       "3  Well, first of all, obviously on account of te...           0.1\n",
       "4  Our digital sales grew 42% in the first quarte...           0.0"
      ]
     },
     "execution_count": 21,
     "metadata": {},
     "output_type": "execute_result"
    }
   ],
   "source": [
    "sentimentscore_df.head()"
   ]
  },
  {
   "cell_type": "markdown",
   "metadata": {},
   "source": [
    "#### Download the json file in the directory"
   ]
  },
  {
   "cell_type": "code",
   "execution_count": 22,
   "metadata": {},
   "outputs": [],
   "source": [
    "sentimentscore_df.to_csv('D:\\\\AI Assignments\\\\Assignment3\\\\Part3\\\\GoogleAPI.csv')"
   ]
  }
 ],
 "metadata": {
  "kernelspec": {
   "display_name": "Python 3",
   "language": "python",
   "name": "python3"
  },
  "language_info": {
   "codemirror_mode": {
    "name": "ipython",
    "version": 3
   },
   "file_extension": ".py",
   "mimetype": "text/x-python",
   "name": "python",
   "nbconvert_exporter": "python",
   "pygments_lexer": "ipython3",
   "version": "3.7.3"
  }
 },
 "nbformat": 4,
 "nbformat_minor": 2
}
