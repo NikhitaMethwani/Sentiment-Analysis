{
 "cells": [
  {
   "cell_type": "markdown",
   "metadata": {},
   "source": [
    "#### Combine the data ( Text + Sentiment score ) from All the APIS ( Amazon , Google ,IBM) in a single dataframe and download the json format in the local drive for further processing"
   ]
  },
  {
   "cell_type": "code",
   "execution_count": null,
   "metadata": {},
   "outputs": [],
   "source": [
    "import pandas as pd\n",
    "import json"
   ]
  },
  {
   "cell_type": "code",
   "execution_count": 2,
   "metadata": {},
   "outputs": [],
   "source": [
    "with open('D:\\AI Assignments\\Assignment3\\JSON_Files\\combine_json.json',encoding=\"utf8\") as file:\n",
    "            df_original = pd.DataFrame(json.load(file))"
   ]
  },
  {
   "cell_type": "code",
   "execution_count": 3,
   "metadata": {},
   "outputs": [
    {
     "data": {
      "text/html": [
       "<div>\n",
       "<style scoped>\n",
       "    .dataframe tbody tr th:only-of-type {\n",
       "        vertical-align: middle;\n",
       "    }\n",
       "\n",
       "    .dataframe tbody tr th {\n",
       "        vertical-align: top;\n",
       "    }\n",
       "\n",
       "    .dataframe thead th {\n",
       "        text-align: right;\n",
       "    }\n",
       "</style>\n",
       "<table border=\"1\" class=\"dataframe\">\n",
       "  <thead>\n",
       "    <tr style=\"text-align: right;\">\n",
       "      <th></th>\n",
       "      <th>sentiment</th>\n",
       "      <th>text</th>\n",
       "    </tr>\n",
       "  </thead>\n",
       "  <tbody>\n",
       "    <tr>\n",
       "      <th>0</th>\n",
       "      <td>Neutral</td>\n",
       "      <td>Tesla, Inc (NASDAQ:</td>\n",
       "    </tr>\n",
       "    <tr>\n",
       "      <th>1</th>\n",
       "      <td>Neutral</td>\n",
       "      <td>Company Participants</td>\n",
       "    </tr>\n",
       "    <tr>\n",
       "      <th>10</th>\n",
       "      <td>Neutral</td>\n",
       "      <td>Pierre Ferragu - New Street Research</td>\n",
       "    </tr>\n",
       "    <tr>\n",
       "      <th>100</th>\n",
       "      <td>Negative</td>\n",
       "      <td>Well, first of all, obviously on account of te...</td>\n",
       "    </tr>\n",
       "    <tr>\n",
       "      <th>1000</th>\n",
       "      <td>Neutral</td>\n",
       "      <td>Our digital sales grew 42% in the first quarte...</td>\n",
       "    </tr>\n",
       "  </tbody>\n",
       "</table>\n",
       "</div>"
      ],
      "text/plain": [
       "     sentiment                                               text\n",
       "0      Neutral                                Tesla, Inc (NASDAQ:\n",
       "1      Neutral                               Company Participants\n",
       "10     Neutral               Pierre Ferragu - New Street Research\n",
       "100   Negative  Well, first of all, obviously on account of te...\n",
       "1000   Neutral  Our digital sales grew 42% in the first quarte..."
      ]
     },
     "execution_count": 3,
     "metadata": {},
     "output_type": "execute_result"
    }
   ],
   "source": [
    "df_original.head()"
   ]
  },
  {
   "cell_type": "code",
   "execution_count": 4,
   "metadata": {},
   "outputs": [],
   "source": [
    "df_original = df_original.rename(columns={\"sentiment\": \"Original_sentiment\"})"
   ]
  },
  {
   "cell_type": "code",
   "execution_count": 5,
   "metadata": {},
   "outputs": [
    {
     "data": {
      "text/html": [
       "<div>\n",
       "<style scoped>\n",
       "    .dataframe tbody tr th:only-of-type {\n",
       "        vertical-align: middle;\n",
       "    }\n",
       "\n",
       "    .dataframe tbody tr th {\n",
       "        vertical-align: top;\n",
       "    }\n",
       "\n",
       "    .dataframe thead th {\n",
       "        text-align: right;\n",
       "    }\n",
       "</style>\n",
       "<table border=\"1\" class=\"dataframe\">\n",
       "  <thead>\n",
       "    <tr style=\"text-align: right;\">\n",
       "      <th></th>\n",
       "      <th>Original_sentiment</th>\n",
       "      <th>text</th>\n",
       "    </tr>\n",
       "  </thead>\n",
       "  <tbody>\n",
       "    <tr>\n",
       "      <th>0</th>\n",
       "      <td>Neutral</td>\n",
       "      <td>Tesla, Inc (NASDAQ:</td>\n",
       "    </tr>\n",
       "    <tr>\n",
       "      <th>1</th>\n",
       "      <td>Neutral</td>\n",
       "      <td>Company Participants</td>\n",
       "    </tr>\n",
       "    <tr>\n",
       "      <th>10</th>\n",
       "      <td>Neutral</td>\n",
       "      <td>Pierre Ferragu - New Street Research</td>\n",
       "    </tr>\n",
       "    <tr>\n",
       "      <th>100</th>\n",
       "      <td>Negative</td>\n",
       "      <td>Well, first of all, obviously on account of te...</td>\n",
       "    </tr>\n",
       "    <tr>\n",
       "      <th>1000</th>\n",
       "      <td>Neutral</td>\n",
       "      <td>Our digital sales grew 42% in the first quarte...</td>\n",
       "    </tr>\n",
       "  </tbody>\n",
       "</table>\n",
       "</div>"
      ],
      "text/plain": [
       "     Original_sentiment                                               text\n",
       "0               Neutral                                Tesla, Inc (NASDAQ:\n",
       "1               Neutral                               Company Participants\n",
       "10              Neutral               Pierre Ferragu - New Street Research\n",
       "100            Negative  Well, first of all, obviously on account of te...\n",
       "1000            Neutral  Our digital sales grew 42% in the first quarte..."
      ]
     },
     "execution_count": 5,
     "metadata": {},
     "output_type": "execute_result"
    }
   ],
   "source": [
    "df_original.head()"
   ]
  },
  {
   "cell_type": "code",
   "execution_count": 6,
   "metadata": {},
   "outputs": [
    {
     "data": {
      "text/html": [
       "<div>\n",
       "<style scoped>\n",
       "    .dataframe tbody tr th:only-of-type {\n",
       "        vertical-align: middle;\n",
       "    }\n",
       "\n",
       "    .dataframe tbody tr th {\n",
       "        vertical-align: top;\n",
       "    }\n",
       "\n",
       "    .dataframe thead th {\n",
       "        text-align: right;\n",
       "    }\n",
       "</style>\n",
       "<table border=\"1\" class=\"dataframe\">\n",
       "  <thead>\n",
       "    <tr style=\"text-align: right;\">\n",
       "      <th></th>\n",
       "      <th>text</th>\n",
       "      <th>Amazon_Sentiment</th>\n",
       "      <th>Amazon_Positive</th>\n",
       "      <th>Amazon_Negative</th>\n",
       "      <th>Amazon_Neutral</th>\n",
       "    </tr>\n",
       "  </thead>\n",
       "  <tbody>\n",
       "    <tr>\n",
       "      <th>0</th>\n",
       "      <td>Tesla, Inc (NASDAQ:</td>\n",
       "      <td>NEUTRAL</td>\n",
       "      <td>0.015811</td>\n",
       "      <td>0.008352</td>\n",
       "      <td>0.974176</td>\n",
       "    </tr>\n",
       "    <tr>\n",
       "      <th>1</th>\n",
       "      <td>Company Participants</td>\n",
       "      <td>NEUTRAL</td>\n",
       "      <td>0.015645</td>\n",
       "      <td>0.004705</td>\n",
       "      <td>0.977986</td>\n",
       "    </tr>\n",
       "    <tr>\n",
       "      <th>2</th>\n",
       "      <td>Pierre Ferragu - New Street Research</td>\n",
       "      <td>NEUTRAL</td>\n",
       "      <td>0.009226</td>\n",
       "      <td>0.011156</td>\n",
       "      <td>0.977927</td>\n",
       "    </tr>\n",
       "    <tr>\n",
       "      <th>3</th>\n",
       "      <td>Well, first of all, obviously on account of te...</td>\n",
       "      <td>NEUTRAL</td>\n",
       "      <td>0.170260</td>\n",
       "      <td>0.092181</td>\n",
       "      <td>0.662109</td>\n",
       "    </tr>\n",
       "    <tr>\n",
       "      <th>4</th>\n",
       "      <td>Our digital sales grew 42% in the first quarte...</td>\n",
       "      <td>NEUTRAL</td>\n",
       "      <td>0.034125</td>\n",
       "      <td>0.003239</td>\n",
       "      <td>0.961494</td>\n",
       "    </tr>\n",
       "  </tbody>\n",
       "</table>\n",
       "</div>"
      ],
      "text/plain": [
       "                                                text Amazon_Sentiment  \\\n",
       "0                                Tesla, Inc (NASDAQ:          NEUTRAL   \n",
       "1                               Company Participants          NEUTRAL   \n",
       "2               Pierre Ferragu - New Street Research          NEUTRAL   \n",
       "3  Well, first of all, obviously on account of te...          NEUTRAL   \n",
       "4  Our digital sales grew 42% in the first quarte...          NEUTRAL   \n",
       "\n",
       "   Amazon_Positive  Amazon_Negative  Amazon_Neutral  \n",
       "0         0.015811         0.008352        0.974176  \n",
       "1         0.015645         0.004705        0.977986  \n",
       "2         0.009226         0.011156        0.977927  \n",
       "3         0.170260         0.092181        0.662109  \n",
       "4         0.034125         0.003239        0.961494  "
      ]
     },
     "execution_count": 6,
     "metadata": {},
     "output_type": "execute_result"
    }
   ],
   "source": [
    "df_amazon = pd.read_csv('D:\\\\AI Assignments\\\\Assignment3\\\\Part3\\\\AmazonAPI.csv')\n",
    "df_amazon = df_amazon.drop(columns = ['Unnamed: 0'])    \n",
    "df_amazon.head()"
   ]
  },
  {
   "cell_type": "code",
   "execution_count": 7,
   "metadata": {},
   "outputs": [
    {
     "data": {
      "text/plain": [
       "text                1412\n",
       "Amazon_Sentiment    1411\n",
       "Amazon_Positive     1411\n",
       "Amazon_Negative     1411\n",
       "Amazon_Neutral      1411\n",
       "dtype: int64"
      ]
     },
     "execution_count": 7,
     "metadata": {},
     "output_type": "execute_result"
    }
   ],
   "source": [
    "df_amazon.count()"
   ]
  },
  {
   "cell_type": "code",
   "execution_count": 8,
   "metadata": {},
   "outputs": [
    {
     "data": {
      "text/html": [
       "<div>\n",
       "<style scoped>\n",
       "    .dataframe tbody tr th:only-of-type {\n",
       "        vertical-align: middle;\n",
       "    }\n",
       "\n",
       "    .dataframe tbody tr th {\n",
       "        vertical-align: top;\n",
       "    }\n",
       "\n",
       "    .dataframe thead th {\n",
       "        text-align: right;\n",
       "    }\n",
       "</style>\n",
       "<table border=\"1\" class=\"dataframe\">\n",
       "  <thead>\n",
       "    <tr style=\"text-align: right;\">\n",
       "      <th></th>\n",
       "      <th>text</th>\n",
       "      <th>Google_Score</th>\n",
       "    </tr>\n",
       "  </thead>\n",
       "  <tbody>\n",
       "    <tr>\n",
       "      <th>0</th>\n",
       "      <td>Tesla, Inc (NASDAQ:</td>\n",
       "      <td>0.0</td>\n",
       "    </tr>\n",
       "    <tr>\n",
       "      <th>1</th>\n",
       "      <td>Company Participants</td>\n",
       "      <td>0.0</td>\n",
       "    </tr>\n",
       "    <tr>\n",
       "      <th>2</th>\n",
       "      <td>Pierre Ferragu - New Street Research</td>\n",
       "      <td>0.2</td>\n",
       "    </tr>\n",
       "    <tr>\n",
       "      <th>3</th>\n",
       "      <td>Well, first of all, obviously on account of te...</td>\n",
       "      <td>0.1</td>\n",
       "    </tr>\n",
       "    <tr>\n",
       "      <th>4</th>\n",
       "      <td>Our digital sales grew 42% in the first quarte...</td>\n",
       "      <td>0.0</td>\n",
       "    </tr>\n",
       "  </tbody>\n",
       "</table>\n",
       "</div>"
      ],
      "text/plain": [
       "                                                text  Google_Score\n",
       "0                                Tesla, Inc (NASDAQ:           0.0\n",
       "1                               Company Participants           0.0\n",
       "2               Pierre Ferragu - New Street Research           0.2\n",
       "3  Well, first of all, obviously on account of te...           0.1\n",
       "4  Our digital sales grew 42% in the first quarte...           0.0"
      ]
     },
     "execution_count": 8,
     "metadata": {},
     "output_type": "execute_result"
    }
   ],
   "source": [
    "df_google = pd.read_csv('D:\\\\AI Assignments\\\\Assignment3\\\\Part3\\\\GoogleAPI.csv')\n",
    "df_google = df_google.drop(columns = ['Unnamed: 0'])    \n",
    "df_google.head()"
   ]
  },
  {
   "cell_type": "code",
   "execution_count": 9,
   "metadata": {},
   "outputs": [
    {
     "data": {
      "text/plain": [
       "text            1232\n",
       "Google_Score    1232\n",
       "dtype: int64"
      ]
     },
     "execution_count": 9,
     "metadata": {},
     "output_type": "execute_result"
    }
   ],
   "source": [
    "df_google.count()"
   ]
  },
  {
   "cell_type": "code",
   "execution_count": 10,
   "metadata": {},
   "outputs": [
    {
     "data": {
      "text/html": [
       "<div>\n",
       "<style scoped>\n",
       "    .dataframe tbody tr th:only-of-type {\n",
       "        vertical-align: middle;\n",
       "    }\n",
       "\n",
       "    .dataframe tbody tr th {\n",
       "        vertical-align: top;\n",
       "    }\n",
       "\n",
       "    .dataframe thead th {\n",
       "        text-align: right;\n",
       "    }\n",
       "</style>\n",
       "<table border=\"1\" class=\"dataframe\">\n",
       "  <thead>\n",
       "    <tr style=\"text-align: right;\">\n",
       "      <th></th>\n",
       "      <th>text</th>\n",
       "      <th>IBM_score</th>\n",
       "      <th>IBM_Sentiment</th>\n",
       "    </tr>\n",
       "  </thead>\n",
       "  <tbody>\n",
       "    <tr>\n",
       "      <th>0</th>\n",
       "      <td>Tesla, Inc (NASDAQ:</td>\n",
       "      <td>0.000000</td>\n",
       "      <td>neutral</td>\n",
       "    </tr>\n",
       "    <tr>\n",
       "      <th>1</th>\n",
       "      <td>Company Participants</td>\n",
       "      <td>0.000000</td>\n",
       "      <td>neutral</td>\n",
       "    </tr>\n",
       "    <tr>\n",
       "      <th>2</th>\n",
       "      <td>Pierre Ferragu - New Street Research</td>\n",
       "      <td>0.000000</td>\n",
       "      <td>neutral</td>\n",
       "    </tr>\n",
       "    <tr>\n",
       "      <th>3</th>\n",
       "      <td>Well, first of all, obviously on account of te...</td>\n",
       "      <td>0.700764</td>\n",
       "      <td>positive</td>\n",
       "    </tr>\n",
       "    <tr>\n",
       "      <th>4</th>\n",
       "      <td>Our digital sales grew 42% in the first quarte...</td>\n",
       "      <td>0.287108</td>\n",
       "      <td>positive</td>\n",
       "    </tr>\n",
       "  </tbody>\n",
       "</table>\n",
       "</div>"
      ],
      "text/plain": [
       "                                                text  IBM_score IBM_Sentiment\n",
       "0                                Tesla, Inc (NASDAQ:   0.000000       neutral\n",
       "1                               Company Participants   0.000000       neutral\n",
       "2               Pierre Ferragu - New Street Research   0.000000       neutral\n",
       "3  Well, first of all, obviously on account of te...   0.700764      positive\n",
       "4  Our digital sales grew 42% in the first quarte...   0.287108      positive"
      ]
     },
     "execution_count": 10,
     "metadata": {},
     "output_type": "execute_result"
    }
   ],
   "source": [
    "df_ibm = pd.read_csv('D:\\\\AI Assignments\\\\Assignment3\\\\Part3\\\\IBMWatsonAPI.csv')\n",
    "df_ibm = df_ibm.drop(columns = ['Unnamed: 0'])    \n",
    "df_ibm.head()"
   ]
  },
  {
   "cell_type": "code",
   "execution_count": 11,
   "metadata": {},
   "outputs": [
    {
     "data": {
      "text/plain": [
       "text             1232\n",
       "IBM_score        1232\n",
       "IBM_Sentiment    1232\n",
       "dtype: int64"
      ]
     },
     "execution_count": 11,
     "metadata": {},
     "output_type": "execute_result"
    }
   ],
   "source": [
    "df_ibm.count()"
   ]
  },
  {
   "cell_type": "code",
   "execution_count": 12,
   "metadata": {},
   "outputs": [
    {
     "data": {
      "text/plain": [
       "Original_sentiment    1232\n",
       "text                  1232\n",
       "dtype: int64"
      ]
     },
     "execution_count": 12,
     "metadata": {},
     "output_type": "execute_result"
    }
   ],
   "source": [
    "df_original.count()"
   ]
  },
  {
   "cell_type": "code",
   "execution_count": 14,
   "metadata": {},
   "outputs": [],
   "source": [
    "df_final = pd.concat([df_amazon['Amazon_Positive'],\n",
    "                      df_amazon['Amazon_Negative'],\n",
    "                      df_amazon['Amazon_Neutral'],\n",
    "                      df_amazon['Amazon_Sentiment'],\n",
    "                      df_google['Google_Score'],\n",
    "                      df_ibm['IBM_score'],\n",
    "                      df_ibm['IBM_Sentiment']],\n",
    "                       axis=1)"
   ]
  },
  {
   "cell_type": "code",
   "execution_count": 15,
   "metadata": {},
   "outputs": [
    {
     "data": {
      "text/html": [
       "<div>\n",
       "<style scoped>\n",
       "    .dataframe tbody tr th:only-of-type {\n",
       "        vertical-align: middle;\n",
       "    }\n",
       "\n",
       "    .dataframe tbody tr th {\n",
       "        vertical-align: top;\n",
       "    }\n",
       "\n",
       "    .dataframe thead th {\n",
       "        text-align: right;\n",
       "    }\n",
       "</style>\n",
       "<table border=\"1\" class=\"dataframe\">\n",
       "  <thead>\n",
       "    <tr style=\"text-align: right;\">\n",
       "      <th></th>\n",
       "      <th>Amazon_Positive</th>\n",
       "      <th>Amazon_Negative</th>\n",
       "      <th>Amazon_Neutral</th>\n",
       "      <th>Amazon_Sentiment</th>\n",
       "      <th>Google_Score</th>\n",
       "      <th>IBM_score</th>\n",
       "      <th>IBM_Sentiment</th>\n",
       "    </tr>\n",
       "  </thead>\n",
       "  <tbody>\n",
       "    <tr>\n",
       "      <th>0</th>\n",
       "      <td>0.015811</td>\n",
       "      <td>0.008352</td>\n",
       "      <td>0.974176</td>\n",
       "      <td>NEUTRAL</td>\n",
       "      <td>0.0</td>\n",
       "      <td>0.000000</td>\n",
       "      <td>neutral</td>\n",
       "    </tr>\n",
       "    <tr>\n",
       "      <th>1</th>\n",
       "      <td>0.015645</td>\n",
       "      <td>0.004705</td>\n",
       "      <td>0.977986</td>\n",
       "      <td>NEUTRAL</td>\n",
       "      <td>0.0</td>\n",
       "      <td>0.000000</td>\n",
       "      <td>neutral</td>\n",
       "    </tr>\n",
       "    <tr>\n",
       "      <th>2</th>\n",
       "      <td>0.009226</td>\n",
       "      <td>0.011156</td>\n",
       "      <td>0.977927</td>\n",
       "      <td>NEUTRAL</td>\n",
       "      <td>0.2</td>\n",
       "      <td>0.000000</td>\n",
       "      <td>neutral</td>\n",
       "    </tr>\n",
       "    <tr>\n",
       "      <th>3</th>\n",
       "      <td>0.170260</td>\n",
       "      <td>0.092181</td>\n",
       "      <td>0.662109</td>\n",
       "      <td>NEUTRAL</td>\n",
       "      <td>0.1</td>\n",
       "      <td>0.700764</td>\n",
       "      <td>positive</td>\n",
       "    </tr>\n",
       "    <tr>\n",
       "      <th>4</th>\n",
       "      <td>0.034125</td>\n",
       "      <td>0.003239</td>\n",
       "      <td>0.961494</td>\n",
       "      <td>NEUTRAL</td>\n",
       "      <td>0.0</td>\n",
       "      <td>0.287108</td>\n",
       "      <td>positive</td>\n",
       "    </tr>\n",
       "  </tbody>\n",
       "</table>\n",
       "</div>"
      ],
      "text/plain": [
       "   Amazon_Positive  Amazon_Negative  Amazon_Neutral Amazon_Sentiment  \\\n",
       "0         0.015811         0.008352        0.974176          NEUTRAL   \n",
       "1         0.015645         0.004705        0.977986          NEUTRAL   \n",
       "2         0.009226         0.011156        0.977927          NEUTRAL   \n",
       "3         0.170260         0.092181        0.662109          NEUTRAL   \n",
       "4         0.034125         0.003239        0.961494          NEUTRAL   \n",
       "\n",
       "   Google_Score  IBM_score IBM_Sentiment  \n",
       "0           0.0   0.000000       neutral  \n",
       "1           0.0   0.000000       neutral  \n",
       "2           0.2   0.000000       neutral  \n",
       "3           0.1   0.700764      positive  \n",
       "4           0.0   0.287108      positive  "
      ]
     },
     "execution_count": 15,
     "metadata": {},
     "output_type": "execute_result"
    }
   ],
   "source": [
    "df_final.head()"
   ]
  },
  {
   "cell_type": "code",
   "execution_count": 16,
   "metadata": {},
   "outputs": [],
   "source": [
    "df_final.to_json('D:\\\\AI Assignments\\\\Assignment3\\\\Part3\\\\final_json.json')"
   ]
  }
 ],
 "metadata": {
  "kernelspec": {
   "display_name": "Python 3",
   "language": "python",
   "name": "python3"
  },
  "language_info": {
   "codemirror_mode": {
    "name": "ipython",
    "version": 3
   },
   "file_extension": ".py",
   "mimetype": "text/x-python",
   "name": "python",
   "nbconvert_exporter": "python",
   "pygments_lexer": "ipython3",
   "version": "3.7.3"
  }
 },
 "nbformat": 4,
 "nbformat_minor": 2
}
